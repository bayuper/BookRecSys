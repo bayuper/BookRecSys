{
  "nbformat": 4,
  "nbformat_minor": 0,
  "metadata": {
    "colab": {
      "name": "[DONE] KMeans User Profiling and Jaccard.ipynb",
      "provenance": []
    },
    "kernelspec": {
      "name": "python3",
      "display_name": "Python 3"
    }
  },
  "cells": [
    {
      "cell_type": "markdown",
      "metadata": {
        "id": "DEWBBHkR6w9i",
        "colab_type": "text"
      },
      "source": [
        "# KMeans User Profiling "
      ]
    },
    {
      "cell_type": "code",
      "metadata": {
        "id": "h_TeJsWY522o",
        "colab_type": "code",
        "colab": {
          "base_uri": "https://localhost:8080/",
          "height": 122
        },
        "outputId": "b43fd9a5-7c55-4150-c262-fa0434c02e37"
      },
      "source": [
        "# Import File\n",
        "from google.colab import drive\n",
        "drive.mount('/content/drive')"
      ],
      "execution_count": null,
      "outputs": [
        {
          "output_type": "stream",
          "text": [
            "Go to this URL in a browser: https://accounts.google.com/o/oauth2/auth?client_id=947318989803-6bn6qk8qdgf4n4g3pfee6491hc0brc4i.apps.googleusercontent.com&redirect_uri=urn%3aietf%3awg%3aoauth%3a2.0%3aoob&response_type=code&scope=email%20https%3a%2f%2fwww.googleapis.com%2fauth%2fdocs.test%20https%3a%2f%2fwww.googleapis.com%2fauth%2fdrive%20https%3a%2f%2fwww.googleapis.com%2fauth%2fdrive.photos.readonly%20https%3a%2f%2fwww.googleapis.com%2fauth%2fpeopleapi.readonly\n",
            "\n",
            "Enter your authorization code:\n",
            "··········\n",
            "Mounted at /content/drive\n"
          ],
          "name": "stdout"
        }
      ]
    },
    {
      "cell_type": "code",
      "metadata": {
        "id": "UD4jmACg8WaP",
        "colab_type": "code",
        "colab": {
          "base_uri": "https://localhost:8080/",
          "height": 204
        },
        "outputId": "c6cb763a-ac6d-47d7-db40-5c1ac3f98c94"
      },
      "source": [
        "# Import Dataset user\n",
        "\n",
        "import pandas as pd\n",
        "import matplotlib.pyplot as plt\n",
        "\n",
        "df = pd.read_csv('/content/drive/My Drive/dataset/book/BX-Users.csv',sep=';')\n",
        "df.head()"
      ],
      "execution_count": null,
      "outputs": [
        {
          "output_type": "execute_result",
          "data": {
            "text/html": [
              "<div>\n",
              "<style scoped>\n",
              "    .dataframe tbody tr th:only-of-type {\n",
              "        vertical-align: middle;\n",
              "    }\n",
              "\n",
              "    .dataframe tbody tr th {\n",
              "        vertical-align: top;\n",
              "    }\n",
              "\n",
              "    .dataframe thead th {\n",
              "        text-align: right;\n",
              "    }\n",
              "</style>\n",
              "<table border=\"1\" class=\"dataframe\">\n",
              "  <thead>\n",
              "    <tr style=\"text-align: right;\">\n",
              "      <th></th>\n",
              "      <th>User_ID</th>\n",
              "      <th>Location</th>\n",
              "      <th>Age</th>\n",
              "    </tr>\n",
              "  </thead>\n",
              "  <tbody>\n",
              "    <tr>\n",
              "      <th>0</th>\n",
              "      <td>1</td>\n",
              "      <td>nyc, new york, usa</td>\n",
              "      <td>NaN</td>\n",
              "    </tr>\n",
              "    <tr>\n",
              "      <th>1</th>\n",
              "      <td>2</td>\n",
              "      <td>stockton, california, usa</td>\n",
              "      <td>18.0</td>\n",
              "    </tr>\n",
              "    <tr>\n",
              "      <th>2</th>\n",
              "      <td>3</td>\n",
              "      <td>moscow, yukon territory, russia</td>\n",
              "      <td>NaN</td>\n",
              "    </tr>\n",
              "    <tr>\n",
              "      <th>3</th>\n",
              "      <td>4</td>\n",
              "      <td>porto, v.n.gaia, portugal</td>\n",
              "      <td>17.0</td>\n",
              "    </tr>\n",
              "    <tr>\n",
              "      <th>4</th>\n",
              "      <td>5</td>\n",
              "      <td>farnborough, hants, united kingdom</td>\n",
              "      <td>NaN</td>\n",
              "    </tr>\n",
              "  </tbody>\n",
              "</table>\n",
              "</div>"
            ],
            "text/plain": [
              "   User_ID                            Location   Age\n",
              "0        1                  nyc, new york, usa   NaN\n",
              "1        2           stockton, california, usa  18.0\n",
              "2        3     moscow, yukon territory, russia   NaN\n",
              "3        4           porto, v.n.gaia, portugal  17.0\n",
              "4        5  farnborough, hants, united kingdom   NaN"
            ]
          },
          "metadata": {
            "tags": []
          },
          "execution_count": 2
        }
      ]
    },
    {
      "cell_type": "markdown",
      "metadata": {
        "id": "fH1FIrx386Vf",
        "colab_type": "text"
      },
      "source": [
        "## Exploratory Data Analysis"
      ]
    },
    {
      "cell_type": "code",
      "metadata": {
        "id": "YiCCD1YI88oX",
        "colab_type": "code",
        "colab": {
          "base_uri": "https://localhost:8080/",
          "height": 204
        },
        "outputId": "c4baa706-fc69-4f2a-b13f-227a52bf6e0a"
      },
      "source": [
        "# Melakukan feature engineering untuk mengekstrak fitur baru pada dataset\n",
        "\n",
        "user_id = df.User_ID\n",
        "location = df.Location\n",
        "country = df.Location\n",
        "age = df.Age\n",
        "\n",
        "# Menambahkan kolom country pada dataset sebagai feature baru\n",
        "df = pd.DataFrame({'User_ID':user_id,'Location':location,'Country':country,'Age':age})\n",
        "df['Location'] = df['Location'].str.rsplit(',').str[0] \n",
        "df['Country'] = df['Country'].str.rsplit(',').str[-1]\n",
        "df.head()"
      ],
      "execution_count": null,
      "outputs": [
        {
          "output_type": "execute_result",
          "data": {
            "text/html": [
              "<div>\n",
              "<style scoped>\n",
              "    .dataframe tbody tr th:only-of-type {\n",
              "        vertical-align: middle;\n",
              "    }\n",
              "\n",
              "    .dataframe tbody tr th {\n",
              "        vertical-align: top;\n",
              "    }\n",
              "\n",
              "    .dataframe thead th {\n",
              "        text-align: right;\n",
              "    }\n",
              "</style>\n",
              "<table border=\"1\" class=\"dataframe\">\n",
              "  <thead>\n",
              "    <tr style=\"text-align: right;\">\n",
              "      <th></th>\n",
              "      <th>User_ID</th>\n",
              "      <th>Location</th>\n",
              "      <th>Country</th>\n",
              "      <th>Age</th>\n",
              "    </tr>\n",
              "  </thead>\n",
              "  <tbody>\n",
              "    <tr>\n",
              "      <th>0</th>\n",
              "      <td>1</td>\n",
              "      <td>nyc</td>\n",
              "      <td>usa</td>\n",
              "      <td>NaN</td>\n",
              "    </tr>\n",
              "    <tr>\n",
              "      <th>1</th>\n",
              "      <td>2</td>\n",
              "      <td>stockton</td>\n",
              "      <td>usa</td>\n",
              "      <td>18.0</td>\n",
              "    </tr>\n",
              "    <tr>\n",
              "      <th>2</th>\n",
              "      <td>3</td>\n",
              "      <td>moscow</td>\n",
              "      <td>russia</td>\n",
              "      <td>NaN</td>\n",
              "    </tr>\n",
              "    <tr>\n",
              "      <th>3</th>\n",
              "      <td>4</td>\n",
              "      <td>porto</td>\n",
              "      <td>portugal</td>\n",
              "      <td>17.0</td>\n",
              "    </tr>\n",
              "    <tr>\n",
              "      <th>4</th>\n",
              "      <td>5</td>\n",
              "      <td>farnborough</td>\n",
              "      <td>united kingdom</td>\n",
              "      <td>NaN</td>\n",
              "    </tr>\n",
              "  </tbody>\n",
              "</table>\n",
              "</div>"
            ],
            "text/plain": [
              "   User_ID     Location          Country   Age\n",
              "0        1          nyc              usa   NaN\n",
              "1        2     stockton              usa  18.0\n",
              "2        3       moscow           russia   NaN\n",
              "3        4        porto         portugal  17.0\n",
              "4        5  farnborough   united kingdom   NaN"
            ]
          },
          "metadata": {
            "tags": []
          },
          "execution_count": 3
        }
      ]
    },
    {
      "cell_type": "code",
      "metadata": {
        "id": "7oxuWVJj9Eh3",
        "colab_type": "code",
        "colab": {
          "base_uri": "https://localhost:8080/",
          "height": 282
        },
        "outputId": "58e77a8b-6ae3-4ce4-8e49-31c47a92c104"
      },
      "source": [
        "#Distribusi Data sebelum prepocessing\n",
        "\n",
        "f = plt.figure(figsize=(12,4))\n",
        "\n",
        "f.add_subplot(1,2,1)\n",
        "df['Age'].plot(kind='kde')"
      ],
      "execution_count": null,
      "outputs": [
        {
          "output_type": "execute_result",
          "data": {
            "text/plain": [
              "<matplotlib.axes._subplots.AxesSubplot at 0x7f1dfe33edd8>"
            ]
          },
          "metadata": {
            "tags": []
          },
          "execution_count": 4
        },
        {
          "output_type": "display_data",
          "data": {
            "image/png": "[encoded data removed]",
            "text/plain": [
              "<Figure size 864x288 with 1 Axes>"
            ]
          },
          "metadata": {
            "tags": [],
            "needs_background": "light"
          }
        }
      ]
    },
    {
      "cell_type": "code",
      "metadata": {
        "id": "a7TQExiU9gfD",
        "colab_type": "code",
        "colab": {
          "base_uri": "https://localhost:8080/",
          "height": 313
        },
        "outputId": "a20d4636-10ab-4b68-be91-4a5e2bf4f8f7"
      },
      "source": [
        "import seaborn as sns\n",
        "\n",
        "sns.distplot(df['Age']);"
      ],
      "execution_count": null,
      "outputs": [
        {
          "output_type": "stream",
          "text": [
            "/usr/local/lib/python3.6/dist-packages/statsmodels/tools/_testing.py:19: FutureWarning: pandas.util.testing is deprecated. Use the functions in the public API at pandas.testing instead.\n",
            "  import pandas.util.testing as tm\n"
          ],
          "name": "stderr"
        },
        {
          "output_type": "display_data",
          "data": {
            "image/png": "[encoded data removed]",
            "text/plain": [
              "<Figure size 432x288 with 1 Axes>"
            ]
          },
          "metadata": {
            "tags": [],
            "needs_background": "light"
          }
        }
      ]
    },
    {
      "cell_type": "markdown",
      "metadata": {
        "id": "sUUovdGJ9zUF",
        "colab_type": "text"
      },
      "source": [
        "## Data Prepocessing"
      ]
    },
    {
      "cell_type": "code",
      "metadata": {
        "id": "VP4KBym-9_hv",
        "colab_type": "code",
        "colab": {
          "base_uri": "https://localhost:8080/",
          "height": 68
        },
        "outputId": "597ac748-1060-4003-8c80-24e089fe559b"
      },
      "source": [
        "# Total data, missing value, dan prosentase missing value pada Data\n",
        "\n",
        "print(\"Jumlah data keseluruhan : \",(df.shape[0]))\n",
        "print(\"Jumlah missing values : \", df['Age'].isnull().sum())\n",
        "print(\"Prosentase missing value : \",round(((df['Age'].isnull().sum() / df.shape[0]) * 100)),'%')"
      ],
      "execution_count": null,
      "outputs": [
        {
          "output_type": "stream",
          "text": [
            "Jumlah data keseluruhan :  278858\n",
            "Jumlah missing values :  110762\n",
            "Prosentase missing value :  40.0 %\n"
          ],
          "name": "stdout"
        }
      ]
    },
    {
      "cell_type": "code",
      "metadata": {
        "id": "L319gENI-GDj",
        "colab_type": "code",
        "colab": {}
      },
      "source": [
        "# Replace missing value with Mean of Data\n",
        "df['Age'] = df['Age'].fillna(df['Age'].mean())"
      ],
      "execution_count": null,
      "outputs": []
    },
    {
      "cell_type": "code",
      "metadata": {
        "id": "rq_R1tOm-RvR",
        "colab_type": "code",
        "colab": {
          "base_uri": "https://localhost:8080/",
          "height": 204
        },
        "outputId": "837d3afe-b3f8-45e7-8662-4705059cdde0"
      },
      "source": [
        "df.head()"
      ],
      "execution_count": null,
      "outputs": [
        {
          "output_type": "execute_result",
          "data": {
            "text/html": [
              "<div>\n",
              "<style scoped>\n",
              "    .dataframe tbody tr th:only-of-type {\n",
              "        vertical-align: middle;\n",
              "    }\n",
              "\n",
              "    .dataframe tbody tr th {\n",
              "        vertical-align: top;\n",
              "    }\n",
              "\n",
              "    .dataframe thead th {\n",
              "        text-align: right;\n",
              "    }\n",
              "</style>\n",
              "<table border=\"1\" class=\"dataframe\">\n",
              "  <thead>\n",
              "    <tr style=\"text-align: right;\">\n",
              "      <th></th>\n",
              "      <th>User_ID</th>\n",
              "      <th>Location</th>\n",
              "      <th>Country</th>\n",
              "      <th>Age</th>\n",
              "    </tr>\n",
              "  </thead>\n",
              "  <tbody>\n",
              "    <tr>\n",
              "      <th>0</th>\n",
              "      <td>1</td>\n",
              "      <td>nyc</td>\n",
              "      <td>usa</td>\n",
              "      <td>34.751434</td>\n",
              "    </tr>\n",
              "    <tr>\n",
              "      <th>1</th>\n",
              "      <td>2</td>\n",
              "      <td>stockton</td>\n",
              "      <td>usa</td>\n",
              "      <td>18.000000</td>\n",
              "    </tr>\n",
              "    <tr>\n",
              "      <th>2</th>\n",
              "      <td>3</td>\n",
              "      <td>moscow</td>\n",
              "      <td>russia</td>\n",
              "      <td>34.751434</td>\n",
              "    </tr>\n",
              "    <tr>\n",
              "      <th>3</th>\n",
              "      <td>4</td>\n",
              "      <td>porto</td>\n",
              "      <td>portugal</td>\n",
              "      <td>17.000000</td>\n",
              "    </tr>\n",
              "    <tr>\n",
              "      <th>4</th>\n",
              "      <td>5</td>\n",
              "      <td>farnborough</td>\n",
              "      <td>united kingdom</td>\n",
              "      <td>34.751434</td>\n",
              "    </tr>\n",
              "  </tbody>\n",
              "</table>\n",
              "</div>"
            ],
            "text/plain": [
              "   User_ID     Location          Country        Age\n",
              "0        1          nyc              usa  34.751434\n",
              "1        2     stockton              usa  18.000000\n",
              "2        3       moscow           russia  34.751434\n",
              "3        4        porto         portugal  17.000000\n",
              "4        5  farnborough   united kingdom  34.751434"
            ]
          },
          "metadata": {
            "tags": []
          },
          "execution_count": 8
        }
      ]
    },
    {
      "cell_type": "code",
      "metadata": {
        "id": "GdzjTddd-Zmh",
        "colab_type": "code",
        "colab": {
          "base_uri": "https://localhost:8080/",
          "height": 283
        },
        "outputId": "4e0d8069-7705-4fc6-9d84-ae62bbe8550e"
      },
      "source": [
        "# Distribusi data setelah diisi dengan rata-rata dari data\n",
        "sns.distplot(df['Age']);"
      ],
      "execution_count": null,
      "outputs": [
        {
          "output_type": "display_data",
          "data": {
            "image/png": "[encoded data removed]",
            "text/plain": [
              "<Figure size 432x288 with 1 Axes>"
            ]
          },
          "metadata": {
            "tags": [],
            "needs_background": "light"
          }
        }
      ]
    },
    {
      "cell_type": "code",
      "metadata": {
        "id": "YNXQvkU5-mC1",
        "colab_type": "code",
        "colab": {
          "base_uri": "https://localhost:8080/",
          "height": 282
        },
        "outputId": "4514bffc-8b65-4536-c57e-087430e9c7ea"
      },
      "source": [
        "f = plt.figure(figsize=(12,4))\n",
        "\n",
        "f.add_subplot(1,2,1)\n",
        "df['Age'].plot(kind='kde')"
      ],
      "execution_count": null,
      "outputs": [
        {
          "output_type": "execute_result",
          "data": {
            "text/plain": [
              "<matplotlib.axes._subplots.AxesSubplot at 0x7f1dff191940>"
            ]
          },
          "metadata": {
            "tags": []
          },
          "execution_count": 10
        },
        {
          "output_type": "display_data",
          "data": {
            "image/png": "[encoded data removed]",
            "text/plain": [
              "<Figure size 864x288 with 1 Axes>"
            ]
          },
          "metadata": {
            "tags": [],
            "needs_background": "light"
          }
        }
      ]
    },
    {
      "cell_type": "code",
      "metadata": {
        "id": "9XMIDNYV-sF7",
        "colab_type": "code",
        "colab": {
          "base_uri": "https://localhost:8080/",
          "height": 350
        },
        "outputId": "38f2489a-92e8-428a-e2ca-aca8749ff609"
      },
      "source": [
        "fig, ax = plt.subplots(figsize=(10,5))\n",
        "\n",
        "ax.hist(df['Age'], bins=50)\n",
        "ax.set_xlabel('Usia')\n",
        "ax.set_ylabel('Frekuensi')\n",
        "ax.set_title('Distribusi Usia dengan missing value = mean()')\n",
        "plt.show()"
      ],
      "execution_count": null,
      "outputs": [
        {
          "output_type": "display_data",
          "data": {
            "image/png": "[encoded data removed]",
            "text/plain": [
              "<Figure size 720x360 with 1 Axes>"
            ]
          },
          "metadata": {
            "tags": [],
            "needs_background": "light"
          }
        }
      ]
    },
    {
      "cell_type": "code",
      "metadata": {
        "id": "Ta2pBx6e-9IC",
        "colab_type": "code",
        "colab": {
          "base_uri": "https://localhost:8080/",
          "height": 51
        },
        "outputId": "1a5ce8a4-0034-4ad4-f1ef-6b0ee669428b"
      },
      "source": [
        "# Mengitung kurtosis dari Age\n",
        "# Rumus -> (P75 - P25)/(2(P90 - P10))\n",
        "\n",
        "kurtosis = (df['Age'].quantile(0.75) - df['Age'].quantile(0.25)) / (2*(df['Age'].quantile(0.9) - df['Age'].quantile(0.1)))\n",
        "print('Nilai kurtosis : ', kurtosis)\n",
        "\n",
        "if(kurtosis == 0.263):\n",
        "  print('Kemungkinan meso kurtosis')\n",
        "elif(kurtosis > 0.263):\n",
        "  print('Kemungkinan planty kurtosis')\n",
        "elif(kurtosis < 0.263):\n",
        "  print('Kemungkinan lepto kurtosis')\n",
        "else:\n",
        "  print('...')\n",
        "\n"
      ],
      "execution_count": null,
      "outputs": [
        {
          "output_type": "stream",
          "text": [
            "Nilai kurtosis :  0.10344827586206896\n",
            "Kemungkinan lepto kurtosis\n"
          ],
          "name": "stdout"
        }
      ]
    },
    {
      "cell_type": "code",
      "metadata": {
        "id": "Yp4sW_hGAcEf",
        "colab_type": "code",
        "colab": {}
      },
      "source": [
        "# Encoding Categorical Data with lebel encoder\n",
        "\n",
        "from sklearn.preprocessing import LabelEncoder\n",
        "\n",
        "le = LabelEncoder()\n",
        "df['Country'] = le.fit_transform(df['Country'])\n",
        "df['Location'] = le.fit_transform(df['Location'])"
      ],
      "execution_count": null,
      "outputs": []
    },
    {
      "cell_type": "code",
      "metadata": {
        "id": "9mPXE6uDBGci",
        "colab_type": "code",
        "colab": {
          "base_uri": "https://localhost:8080/",
          "height": 297
        },
        "outputId": "65a5135f-9023-431d-af11-5da327467c1b"
      },
      "source": [
        "df.describe()"
      ],
      "execution_count": null,
      "outputs": [
        {
          "output_type": "execute_result",
          "data": {
            "text/html": [
              "<div>\n",
              "<style scoped>\n",
              "    .dataframe tbody tr th:only-of-type {\n",
              "        vertical-align: middle;\n",
              "    }\n",
              "\n",
              "    .dataframe tbody tr th {\n",
              "        vertical-align: top;\n",
              "    }\n",
              "\n",
              "    .dataframe thead th {\n",
              "        text-align: right;\n",
              "    }\n",
              "</style>\n",
              "<table border=\"1\" class=\"dataframe\">\n",
              "  <thead>\n",
              "    <tr style=\"text-align: right;\">\n",
              "      <th></th>\n",
              "      <th>User_ID</th>\n",
              "      <th>Location</th>\n",
              "      <th>Country</th>\n",
              "      <th>Age</th>\n",
              "    </tr>\n",
              "  </thead>\n",
              "  <tbody>\n",
              "    <tr>\n",
              "      <th>count</th>\n",
              "      <td>278858.00000</td>\n",
              "      <td>278858.000000</td>\n",
              "      <td>278858.000000</td>\n",
              "      <td>278858.000000</td>\n",
              "    </tr>\n",
              "    <tr>\n",
              "      <th>mean</th>\n",
              "      <td>139429.50000</td>\n",
              "      <td>16451.260681</td>\n",
              "      <td>488.947798</td>\n",
              "      <td>34.751434</td>\n",
              "    </tr>\n",
              "    <tr>\n",
              "      <th>std</th>\n",
              "      <td>80499.51502</td>\n",
              "      <td>9352.773370</td>\n",
              "      <td>228.386395</td>\n",
              "      <td>11.202003</td>\n",
              "    </tr>\n",
              "    <tr>\n",
              "      <th>min</th>\n",
              "      <td>1.00000</td>\n",
              "      <td>0.000000</td>\n",
              "      <td>0.000000</td>\n",
              "      <td>0.000000</td>\n",
              "    </tr>\n",
              "    <tr>\n",
              "      <th>25%</th>\n",
              "      <td>69715.25000</td>\n",
              "      <td>8055.250000</td>\n",
              "      <td>249.000000</td>\n",
              "      <td>29.000000</td>\n",
              "    </tr>\n",
              "    <tr>\n",
              "      <th>50%</th>\n",
              "      <td>139429.50000</td>\n",
              "      <td>16828.000000</td>\n",
              "      <td>660.000000</td>\n",
              "      <td>34.751434</td>\n",
              "    </tr>\n",
              "    <tr>\n",
              "      <th>75%</th>\n",
              "      <td>209143.75000</td>\n",
              "      <td>24458.750000</td>\n",
              "      <td>660.000000</td>\n",
              "      <td>35.000000</td>\n",
              "    </tr>\n",
              "    <tr>\n",
              "      <th>max</th>\n",
              "      <td>278858.00000</td>\n",
              "      <td>32769.000000</td>\n",
              "      <td>708.000000</td>\n",
              "      <td>244.000000</td>\n",
              "    </tr>\n",
              "  </tbody>\n",
              "</table>\n",
              "</div>"
            ],
            "text/plain": [
              "            User_ID       Location        Country            Age\n",
              "count  278858.00000  278858.000000  278858.000000  278858.000000\n",
              "mean   139429.50000   16451.260681     488.947798      34.751434\n",
              "std     80499.51502    9352.773370     228.386395      11.202003\n",
              "min         1.00000       0.000000       0.000000       0.000000\n",
              "25%     69715.25000    8055.250000     249.000000      29.000000\n",
              "50%    139429.50000   16828.000000     660.000000      34.751434\n",
              "75%    209143.75000   24458.750000     660.000000      35.000000\n",
              "max    278858.00000   32769.000000     708.000000     244.000000"
            ]
          },
          "metadata": {
            "tags": []
          },
          "execution_count": 14
        }
      ]
    },
    {
      "cell_type": "code",
      "metadata": {
        "id": "cqfmD901BMFW",
        "colab_type": "code",
        "colab": {}
      },
      "source": [
        "# Scaling data dengan minimum 0 dan maximum 1\n",
        "from sklearn.preprocessing import MinMaxScaler\n",
        "minmax = MinMaxScaler().fit_transform(df.drop('User_ID', axis=1))"
      ],
      "execution_count": null,
      "outputs": []
    },
    {
      "cell_type": "code",
      "metadata": {
        "id": "GCuWM_BjBUOp",
        "colab_type": "code",
        "colab": {
          "base_uri": "https://localhost:8080/",
          "height": 204
        },
        "outputId": "db29ccb9-e294-4be4-818c-c8ffa78ee9f1"
      },
      "source": [
        "df = pd.DataFrame(minmax, index=df.index,columns=['Age','Country','Location'])\n",
        "df.head()"
      ],
      "execution_count": null,
      "outputs": [
        {
          "output_type": "execute_result",
          "data": {
            "text/html": [
              "<div>\n",
              "<style scoped>\n",
              "    .dataframe tbody tr th:only-of-type {\n",
              "        vertical-align: middle;\n",
              "    }\n",
              "\n",
              "    .dataframe tbody tr th {\n",
              "        vertical-align: top;\n",
              "    }\n",
              "\n",
              "    .dataframe thead th {\n",
              "        text-align: right;\n",
              "    }\n",
              "</style>\n",
              "<table border=\"1\" class=\"dataframe\">\n",
              "  <thead>\n",
              "    <tr style=\"text-align: right;\">\n",
              "      <th></th>\n",
              "      <th>Age</th>\n",
              "      <th>Country</th>\n",
              "      <th>Location</th>\n",
              "    </tr>\n",
              "  </thead>\n",
              "  <tbody>\n",
              "    <tr>\n",
              "      <th>0</th>\n",
              "      <td>0.635082</td>\n",
              "      <td>0.932203</td>\n",
              "      <td>0.142424</td>\n",
              "    </tr>\n",
              "    <tr>\n",
              "      <th>1</th>\n",
              "      <td>0.851384</td>\n",
              "      <td>0.932203</td>\n",
              "      <td>0.073770</td>\n",
              "    </tr>\n",
              "    <tr>\n",
              "      <th>2</th>\n",
              "      <td>0.577924</td>\n",
              "      <td>0.723164</td>\n",
              "      <td>0.142424</td>\n",
              "    </tr>\n",
              "    <tr>\n",
              "      <th>3</th>\n",
              "      <td>0.703348</td>\n",
              "      <td>0.686441</td>\n",
              "      <td>0.069672</td>\n",
              "    </tr>\n",
              "    <tr>\n",
              "      <th>4</th>\n",
              "      <td>0.292227</td>\n",
              "      <td>0.909605</td>\n",
              "      <td>0.142424</td>\n",
              "    </tr>\n",
              "  </tbody>\n",
              "</table>\n",
              "</div>"
            ],
            "text/plain": [
              "        Age   Country  Location\n",
              "0  0.635082  0.932203  0.142424\n",
              "1  0.851384  0.932203  0.073770\n",
              "2  0.577924  0.723164  0.142424\n",
              "3  0.703348  0.686441  0.069672\n",
              "4  0.292227  0.909605  0.142424"
            ]
          },
          "metadata": {
            "tags": []
          },
          "execution_count": 16
        }
      ]
    },
    {
      "cell_type": "code",
      "metadata": {
        "id": "4MR4auBRBgLF",
        "colab_type": "code",
        "colab": {
          "base_uri": "https://localhost:8080/",
          "height": 297
        },
        "outputId": "73ad5723-b25f-4115-aee2-aaa4f843fc8f"
      },
      "source": [
        "df.describe()"
      ],
      "execution_count": null,
      "outputs": [
        {
          "output_type": "execute_result",
          "data": {
            "text/html": [
              "<div>\n",
              "<style scoped>\n",
              "    .dataframe tbody tr th:only-of-type {\n",
              "        vertical-align: middle;\n",
              "    }\n",
              "\n",
              "    .dataframe tbody tr th {\n",
              "        vertical-align: top;\n",
              "    }\n",
              "\n",
              "    .dataframe thead th {\n",
              "        text-align: right;\n",
              "    }\n",
              "</style>\n",
              "<table border=\"1\" class=\"dataframe\">\n",
              "  <thead>\n",
              "    <tr style=\"text-align: right;\">\n",
              "      <th></th>\n",
              "      <th>Age</th>\n",
              "      <th>Country</th>\n",
              "      <th>Location</th>\n",
              "    </tr>\n",
              "  </thead>\n",
              "  <tbody>\n",
              "    <tr>\n",
              "      <th>count</th>\n",
              "      <td>278858.000000</td>\n",
              "      <td>278858.000000</td>\n",
              "      <td>278858.000000</td>\n",
              "    </tr>\n",
              "    <tr>\n",
              "      <th>mean</th>\n",
              "      <td>0.502037</td>\n",
              "      <td>0.690604</td>\n",
              "      <td>0.142424</td>\n",
              "    </tr>\n",
              "    <tr>\n",
              "      <th>std</th>\n",
              "      <td>0.285415</td>\n",
              "      <td>0.322580</td>\n",
              "      <td>0.045910</td>\n",
              "    </tr>\n",
              "    <tr>\n",
              "      <th>min</th>\n",
              "      <td>0.000000</td>\n",
              "      <td>0.000000</td>\n",
              "      <td>0.000000</td>\n",
              "    </tr>\n",
              "    <tr>\n",
              "      <th>25%</th>\n",
              "      <td>0.245819</td>\n",
              "      <td>0.351695</td>\n",
              "      <td>0.118852</td>\n",
              "    </tr>\n",
              "    <tr>\n",
              "      <th>50%</th>\n",
              "      <td>0.513534</td>\n",
              "      <td>0.932203</td>\n",
              "      <td>0.142424</td>\n",
              "    </tr>\n",
              "    <tr>\n",
              "      <th>75%</th>\n",
              "      <td>0.746399</td>\n",
              "      <td>0.932203</td>\n",
              "      <td>0.143443</td>\n",
              "    </tr>\n",
              "    <tr>\n",
              "      <th>max</th>\n",
              "      <td>1.000000</td>\n",
              "      <td>1.000000</td>\n",
              "      <td>1.000000</td>\n",
              "    </tr>\n",
              "  </tbody>\n",
              "</table>\n",
              "</div>"
            ],
            "text/plain": [
              "                 Age        Country       Location\n",
              "count  278858.000000  278858.000000  278858.000000\n",
              "mean        0.502037       0.690604       0.142424\n",
              "std         0.285415       0.322580       0.045910\n",
              "min         0.000000       0.000000       0.000000\n",
              "25%         0.245819       0.351695       0.118852\n",
              "50%         0.513534       0.932203       0.142424\n",
              "75%         0.746399       0.932203       0.143443\n",
              "max         1.000000       1.000000       1.000000"
            ]
          },
          "metadata": {
            "tags": []
          },
          "execution_count": 17
        }
      ]
    },
    {
      "cell_type": "markdown",
      "metadata": {
        "id": "o9s2YbPzBo4a",
        "colab_type": "text"
      },
      "source": [
        "## Clustering Process"
      ]
    },
    {
      "cell_type": "code",
      "metadata": {
        "id": "Q5Xbd6nJBrFS",
        "colab_type": "code",
        "colab": {}
      },
      "source": [
        "import numpy as np \n",
        "from sklearn.cluster import KMeans\n",
        "\n",
        "dist_df = []\n",
        "\n",
        "for num_cluster in range (1,20):\n",
        "    km = KMeans(n_clusters = num_cluster)\n",
        "    km.fit(df)\n",
        "    dist_df.append([num_cluster, km.inertia_])\n",
        "dist_df = pd.DataFrame(dist_df, columns= ['Number_of_Cluster', 'Distance'])"
      ],
      "execution_count": null,
      "outputs": []
    },
    {
      "cell_type": "code",
      "metadata": {
        "id": "YX-cF55ZChVh",
        "colab_type": "code",
        "colab": {
          "base_uri": "https://localhost:8080/"
        },
        "outputId": "54ecbb74-9cf3-44ea-d805-352f171271ea"
      },
      "source": [
        "fig, ax  = plt.subplots(figsize=(10,6))\n",
        "\n",
        "ax.plot(dist_df.set_index(\"Number_of_Cluster\"), marker='o')\n",
        "ax.set_xlabel(\"Number of Cluster\")\n",
        "ax.set_ylabel(\"Distance to Cluster Center\")\n",
        "ax.set_title(\"K-Means Elbow Method\")\n",
        "\n",
        "plt.show()"
      ],
      "execution_count": null,
      "outputs": [
        {
          "output_type": "display_data",
          "data": {
            "image/png": "[encoded data removed]",
            "text/plain": [
              "<Figure size 720x432 with 1 Axes>"
            ]
          },
          "metadata": {
            "tags": [],
            "needs_background": "light"
          }
        }
      ]
    },
    {
      "cell_type": "markdown",
      "metadata": {
        "id": "sr0yI0BsDZIG",
        "colab_type": "text"
      },
      "source": [
        "Berdasarkan hasil dari Elbow Method, cluster terbaik berada di angka 4"
      ]
    },
    {
      "cell_type": "code",
      "metadata": {
        "id": "DPaHhobcDkX_",
        "colab_type": "code",
        "colab": {
          "base_uri": "https://localhost:8080/"
        },
        "outputId": "ecd24213-a307-40f2-fa00-605e386adf91"
      },
      "source": [
        "# Membuat model KMeans menggunaian n_cluster = 4\n",
        "\n",
        "model_kmeans = KMeans(n_clusters = 4)\n",
        "model_kmeans.fit(df)"
      ],
      "execution_count": null,
      "outputs": [
        {
          "output_type": "execute_result",
          "data": {
            "text/plain": [
              "KMeans(algorithm='auto', copy_x=True, init='k-means++', max_iter=300,\n",
              "       n_clusters=4, n_init=10, n_jobs=None, precompute_distances='auto',\n",
              "       random_state=None, tol=0.0001, verbose=0)"
            ]
          },
          "metadata": {
            "tags": []
          },
          "execution_count": 20
        }
      ]
    },
    {
      "cell_type": "code",
      "metadata": {
        "id": "sxq9fB03Dy97",
        "colab_type": "code",
        "colab": {
          "base_uri": "https://localhost:8080/"
        },
        "outputId": "ab6faa31-eba7-49fe-c373-33735555bfb4"
      },
      "source": [
        "df['Cluster'] = model_kmeans.labels_\n",
        "df.head()"
      ],
      "execution_count": null,
      "outputs": [
        {
          "output_type": "execute_result",
          "data": {
            "text/html": [
              "<div>\n",
              "<style scoped>\n",
              "    .dataframe tbody tr th:only-of-type {\n",
              "        vertical-align: middle;\n",
              "    }\n",
              "\n",
              "    .dataframe tbody tr th {\n",
              "        vertical-align: top;\n",
              "    }\n",
              "\n",
              "    .dataframe thead th {\n",
              "        text-align: right;\n",
              "    }\n",
              "</style>\n",
              "<table border=\"1\" class=\"dataframe\">\n",
              "  <thead>\n",
              "    <tr style=\"text-align: right;\">\n",
              "      <th></th>\n",
              "      <th>Age</th>\n",
              "      <th>Country</th>\n",
              "      <th>Location</th>\n",
              "      <th>Cluster</th>\n",
              "    </tr>\n",
              "  </thead>\n",
              "  <tbody>\n",
              "    <tr>\n",
              "      <th>0</th>\n",
              "      <td>0.635082</td>\n",
              "      <td>0.932203</td>\n",
              "      <td>0.142424</td>\n",
              "      <td>0</td>\n",
              "    </tr>\n",
              "    <tr>\n",
              "      <th>1</th>\n",
              "      <td>0.851384</td>\n",
              "      <td>0.932203</td>\n",
              "      <td>0.073770</td>\n",
              "      <td>0</td>\n",
              "    </tr>\n",
              "    <tr>\n",
              "      <th>2</th>\n",
              "      <td>0.577924</td>\n",
              "      <td>0.723164</td>\n",
              "      <td>0.142424</td>\n",
              "      <td>0</td>\n",
              "    </tr>\n",
              "    <tr>\n",
              "      <th>3</th>\n",
              "      <td>0.703348</td>\n",
              "      <td>0.686441</td>\n",
              "      <td>0.069672</td>\n",
              "      <td>0</td>\n",
              "    </tr>\n",
              "    <tr>\n",
              "      <th>4</th>\n",
              "      <td>0.292227</td>\n",
              "      <td>0.909605</td>\n",
              "      <td>0.142424</td>\n",
              "      <td>3</td>\n",
              "    </tr>\n",
              "  </tbody>\n",
              "</table>\n",
              "</div>"
            ],
            "text/plain": [
              "        Age   Country  Location  Cluster\n",
              "0  0.635082  0.932203  0.142424        0\n",
              "1  0.851384  0.932203  0.073770        0\n",
              "2  0.577924  0.723164  0.142424        0\n",
              "3  0.703348  0.686441  0.069672        0\n",
              "4  0.292227  0.909605  0.142424        3"
            ]
          },
          "metadata": {
            "tags": []
          },
          "execution_count": 21
        }
      ]
    },
    {
      "cell_type": "code",
      "metadata": {
        "id": "YJLdsT3aD2Sr",
        "colab_type": "code",
        "colab": {
          "base_uri": "https://localhost:8080/"
        },
        "outputId": "3a3d1461-b4fd-473d-94bc-6da00b6457e4"
      },
      "source": [
        "# Jumlah dari tiap-tiap cluster\n",
        "\n",
        "plt.hist(df['Cluster']) \n",
        "plt.show()"
      ],
      "execution_count": null,
      "outputs": [
        {
          "output_type": "display_data",
          "data": {
            "image/png": "[encoded data removed]",
            "text/plain": [
              "<Figure size 432x288 with 1 Axes>"
            ]
          },
          "metadata": {
            "tags": [],
            "needs_background": "light"
          }
        }
      ]
    },
    {
      "cell_type": "code",
      "metadata": {
        "id": "3RKWmOSBEDI-",
        "colab_type": "code",
        "colab": {
          "base_uri": "https://localhost:8080/"
        },
        "outputId": "d4061226-b8f0-429a-dccf-9d84c2e49a3f"
      },
      "source": [
        "sns.pairplot(df, hue='Cluster')"
      ],
      "execution_count": null,
      "outputs": [
        {
          "output_type": "execute_result",
          "data": {
            "text/plain": [
              "<seaborn.axisgrid.PairGrid at 0x7f1e024f47b8>"
            ]
          },
          "metadata": {
            "tags": []
          },
          "execution_count": 23
        },
        {
          "output_type": "display_data",
          "data": {
            "image/png": "[encoded data removed]",
            "text/plain": [
              "<Figure size 583.5x540 with 12 Axes>"
            ]
          },
          "metadata": {
            "tags": [],
            "needs_background": "light"
          }
        }
      ]
    },
    {
      "cell_type": "markdown",
      "metadata": {
        "id": "TPQREozwEjDZ",
        "colab_type": "text"
      },
      "source": [
        "# Jaccard + KMeans"
      ]
    },
    {
      "cell_type": "code",
      "metadata": {
        "id": "u4DgL0O-E90K",
        "colab_type": "code",
        "colab": {}
      },
      "source": [
        "#import dataset\n",
        "book_df = pd.read_csv('/content/drive/My Drive/dataset/book/BX-Books.csv',sep=';',usecols=['ISBN','Book_Title'],dtype={'ISBN': 'str', 'Book_Title': 'str'})\n",
        "rating_df = pd.read_csv('/content/drive/My Drive/dataset/book/BX-Book-Ratings.csv',sep=';',usecols=['User_ID','ISBN','Book_Rating'],dtype={'User_ID':'int64','ISBN': 'str', 'Book_Rating': 'float32'})\n",
        "user_cluster = pd.read_csv ('/content/drive/My Drive/dataset/book/user_cluster.csv')"
      ],
      "execution_count": null,
      "outputs": []
    },
    {
      "cell_type": "code",
      "metadata": {
        "id": "no2WJG3lGZBn",
        "colab_type": "code",
        "colab": {}
      },
      "source": [
        "# Ambil data item yang di rating sebanyak 500.000 data\n",
        "rating_df = rating_df.iloc[0:500000]"
      ],
      "execution_count": null,
      "outputs": []
    },
    {
      "cell_type": "code",
      "metadata": {
        "id": "FY9CArzgGjPL",
        "colab_type": "code",
        "colab": {
          "base_uri": "https://localhost:8080/",
          "height": 204
        },
        "outputId": "cf768e2e-c7ce-4eb0-fcd4-b9855d272d84"
      },
      "source": [
        "# Gabungkan data rating dan buku\n",
        "df_merge = pd.merge(rating_df, book_df, on ='ISBN')\n",
        "df_merge.head()"
      ],
      "execution_count": null,
      "outputs": [
        {
          "output_type": "execute_result",
          "data": {
            "text/html": [
              "<div>\n",
              "<style scoped>\n",
              "    .dataframe tbody tr th:only-of-type {\n",
              "        vertical-align: middle;\n",
              "    }\n",
              "\n",
              "    .dataframe tbody tr th {\n",
              "        vertical-align: top;\n",
              "    }\n",
              "\n",
              "    .dataframe thead th {\n",
              "        text-align: right;\n",
              "    }\n",
              "</style>\n",
              "<table border=\"1\" class=\"dataframe\">\n",
              "  <thead>\n",
              "    <tr style=\"text-align: right;\">\n",
              "      <th></th>\n",
              "      <th>User_ID</th>\n",
              "      <th>ISBN</th>\n",
              "      <th>Book_Rating</th>\n",
              "      <th>Book_Title</th>\n",
              "    </tr>\n",
              "  </thead>\n",
              "  <tbody>\n",
              "    <tr>\n",
              "      <th>0</th>\n",
              "      <td>276725</td>\n",
              "      <td>034545104X</td>\n",
              "      <td>0.0</td>\n",
              "      <td>Flesh Tones: A Novel</td>\n",
              "    </tr>\n",
              "    <tr>\n",
              "      <th>1</th>\n",
              "      <td>2313</td>\n",
              "      <td>034545104X</td>\n",
              "      <td>5.0</td>\n",
              "      <td>Flesh Tones: A Novel</td>\n",
              "    </tr>\n",
              "    <tr>\n",
              "      <th>2</th>\n",
              "      <td>6543</td>\n",
              "      <td>034545104X</td>\n",
              "      <td>0.0</td>\n",
              "      <td>Flesh Tones: A Novel</td>\n",
              "    </tr>\n",
              "    <tr>\n",
              "      <th>3</th>\n",
              "      <td>8680</td>\n",
              "      <td>034545104X</td>\n",
              "      <td>5.0</td>\n",
              "      <td>Flesh Tones: A Novel</td>\n",
              "    </tr>\n",
              "    <tr>\n",
              "      <th>4</th>\n",
              "      <td>10314</td>\n",
              "      <td>034545104X</td>\n",
              "      <td>9.0</td>\n",
              "      <td>Flesh Tones: A Novel</td>\n",
              "    </tr>\n",
              "  </tbody>\n",
              "</table>\n",
              "</div>"
            ],
            "text/plain": [
              "   User_ID        ISBN  Book_Rating            Book_Title\n",
              "0   276725  034545104X          0.0  Flesh Tones: A Novel\n",
              "1     2313  034545104X          5.0  Flesh Tones: A Novel\n",
              "2     6543  034545104X          0.0  Flesh Tones: A Novel\n",
              "3     8680  034545104X          5.0  Flesh Tones: A Novel\n",
              "4    10314  034545104X          9.0  Flesh Tones: A Novel"
            ]
          },
          "metadata": {
            "tags": []
          },
          "execution_count": 26
        }
      ]
    },
    {
      "cell_type": "code",
      "metadata": {
        "id": "_UhBOpNnGrDP",
        "colab_type": "code",
        "colab": {
          "base_uri": "https://localhost:8080/",
          "height": 204
        },
        "outputId": "563b5c68-7504-421a-f8f4-f96c6ab31ebf"
      },
      "source": [
        "combine_book_rating = df_merge.dropna(axis = 0, subset = ['User_ID'])\n",
        "\n",
        "book_rating_count = (combine_book_rating.\n",
        "                    groupby(by = ['User_ID'])['Book_Rating'].\n",
        "                    count().\n",
        "                    reset_index().\n",
        "                    rename(columns = {'Book_Rating': 'total_rating_count'})\n",
        "                    [['User_ID', 'total_rating_count']])\n",
        "rating_with_total_rating_count = combine_book_rating.merge(book_rating_count, left_on = 'User_ID', right_on = 'User_ID', how = 'left')\n",
        "rating_with_total_rating_count.head()"
      ],
      "execution_count": null,
      "outputs": [
        {
          "output_type": "execute_result",
          "data": {
            "text/html": [
              "<div>\n",
              "<style scoped>\n",
              "    .dataframe tbody tr th:only-of-type {\n",
              "        vertical-align: middle;\n",
              "    }\n",
              "\n",
              "    .dataframe tbody tr th {\n",
              "        vertical-align: top;\n",
              "    }\n",
              "\n",
              "    .dataframe thead th {\n",
              "        text-align: right;\n",
              "    }\n",
              "</style>\n",
              "<table border=\"1\" class=\"dataframe\">\n",
              "  <thead>\n",
              "    <tr style=\"text-align: right;\">\n",
              "      <th></th>\n",
              "      <th>User_ID</th>\n",
              "      <th>ISBN</th>\n",
              "      <th>Book_Rating</th>\n",
              "      <th>Book_Title</th>\n",
              "      <th>total_rating_count</th>\n",
              "    </tr>\n",
              "  </thead>\n",
              "  <tbody>\n",
              "    <tr>\n",
              "      <th>0</th>\n",
              "      <td>276725</td>\n",
              "      <td>034545104X</td>\n",
              "      <td>0.0</td>\n",
              "      <td>Flesh Tones: A Novel</td>\n",
              "      <td>1</td>\n",
              "    </tr>\n",
              "    <tr>\n",
              "      <th>1</th>\n",
              "      <td>2313</td>\n",
              "      <td>034545104X</td>\n",
              "      <td>5.0</td>\n",
              "      <td>Flesh Tones: A Novel</td>\n",
              "      <td>36</td>\n",
              "    </tr>\n",
              "    <tr>\n",
              "      <th>2</th>\n",
              "      <td>6543</td>\n",
              "      <td>034545104X</td>\n",
              "      <td>0.0</td>\n",
              "      <td>Flesh Tones: A Novel</td>\n",
              "      <td>425</td>\n",
              "    </tr>\n",
              "    <tr>\n",
              "      <th>3</th>\n",
              "      <td>8680</td>\n",
              "      <td>034545104X</td>\n",
              "      <td>5.0</td>\n",
              "      <td>Flesh Tones: A Novel</td>\n",
              "      <td>25</td>\n",
              "    </tr>\n",
              "    <tr>\n",
              "      <th>4</th>\n",
              "      <td>10314</td>\n",
              "      <td>034545104X</td>\n",
              "      <td>9.0</td>\n",
              "      <td>Flesh Tones: A Novel</td>\n",
              "      <td>167</td>\n",
              "    </tr>\n",
              "  </tbody>\n",
              "</table>\n",
              "</div>"
            ],
            "text/plain": [
              "   User_ID        ISBN  Book_Rating            Book_Title  total_rating_count\n",
              "0   276725  034545104X          0.0  Flesh Tones: A Novel                   1\n",
              "1     2313  034545104X          5.0  Flesh Tones: A Novel                  36\n",
              "2     6543  034545104X          0.0  Flesh Tones: A Novel                 425\n",
              "3     8680  034545104X          5.0  Flesh Tones: A Novel                  25\n",
              "4    10314  034545104X          9.0  Flesh Tones: A Novel                 167"
            ]
          },
          "metadata": {
            "tags": []
          },
          "execution_count": 27
        }
      ]
    },
    {
      "cell_type": "code",
      "metadata": {
        "id": "FyIQ85u7GyVw",
        "colab_type": "code",
        "colab": {
          "base_uri": "https://localhost:8080/",
          "height": 204
        },
        "outputId": "d7035cf0-259c-458c-ef4e-5e1b936b2339"
      },
      "source": [
        "# Ambil user yang sudah merating lebih dari 100 buku\n",
        "\n",
        "popularity_threshold = 100\n",
        "rating_popular_book = rating_with_total_rating_count.query('total_rating_count >= @popularity_threshold')\n",
        "rating_popular_book.head()"
      ],
      "execution_count": null,
      "outputs": [
        {
          "output_type": "execute_result",
          "data": {
            "text/html": [
              "<div>\n",
              "<style scoped>\n",
              "    .dataframe tbody tr th:only-of-type {\n",
              "        vertical-align: middle;\n",
              "    }\n",
              "\n",
              "    .dataframe tbody tr th {\n",
              "        vertical-align: top;\n",
              "    }\n",
              "\n",
              "    .dataframe thead th {\n",
              "        text-align: right;\n",
              "    }\n",
              "</style>\n",
              "<table border=\"1\" class=\"dataframe\">\n",
              "  <thead>\n",
              "    <tr style=\"text-align: right;\">\n",
              "      <th></th>\n",
              "      <th>User_ID</th>\n",
              "      <th>ISBN</th>\n",
              "      <th>Book_Rating</th>\n",
              "      <th>Book_Title</th>\n",
              "      <th>total_rating_count</th>\n",
              "    </tr>\n",
              "  </thead>\n",
              "  <tbody>\n",
              "    <tr>\n",
              "      <th>2</th>\n",
              "      <td>6543</td>\n",
              "      <td>034545104X</td>\n",
              "      <td>0.0</td>\n",
              "      <td>Flesh Tones: A Novel</td>\n",
              "      <td>425</td>\n",
              "    </tr>\n",
              "    <tr>\n",
              "      <th>4</th>\n",
              "      <td>10314</td>\n",
              "      <td>034545104X</td>\n",
              "      <td>9.0</td>\n",
              "      <td>Flesh Tones: A Novel</td>\n",
              "      <td>167</td>\n",
              "    </tr>\n",
              "    <tr>\n",
              "      <th>5</th>\n",
              "      <td>23768</td>\n",
              "      <td>034545104X</td>\n",
              "      <td>0.0</td>\n",
              "      <td>Flesh Tones: A Novel</td>\n",
              "      <td>1690</td>\n",
              "    </tr>\n",
              "    <tr>\n",
              "      <th>7</th>\n",
              "      <td>28523</td>\n",
              "      <td>034545104X</td>\n",
              "      <td>0.0</td>\n",
              "      <td>Flesh Tones: A Novel</td>\n",
              "      <td>374</td>\n",
              "    </tr>\n",
              "    <tr>\n",
              "      <th>14</th>\n",
              "      <td>77480</td>\n",
              "      <td>034545104X</td>\n",
              "      <td>8.0</td>\n",
              "      <td>Flesh Tones: A Novel</td>\n",
              "      <td>168</td>\n",
              "    </tr>\n",
              "  </tbody>\n",
              "</table>\n",
              "</div>"
            ],
            "text/plain": [
              "    User_ID        ISBN  Book_Rating            Book_Title  total_rating_count\n",
              "2      6543  034545104X          0.0  Flesh Tones: A Novel                 425\n",
              "4     10314  034545104X          9.0  Flesh Tones: A Novel                 167\n",
              "5     23768  034545104X          0.0  Flesh Tones: A Novel                1690\n",
              "7     28523  034545104X          0.0  Flesh Tones: A Novel                 374\n",
              "14    77480  034545104X          8.0  Flesh Tones: A Novel                 168"
            ]
          },
          "metadata": {
            "tags": []
          },
          "execution_count": 28
        }
      ]
    },
    {
      "cell_type": "code",
      "metadata": {
        "id": "tZhAtSLmG3Vk",
        "colab_type": "code",
        "colab": {}
      },
      "source": [
        "user_cluster = user_cluster.drop(['Country','Location','Age'], axis = 1)"
      ],
      "execution_count": null,
      "outputs": []
    },
    {
      "cell_type": "code",
      "metadata": {
        "id": "03RCKkJpG8X6",
        "colab_type": "code",
        "colab": {}
      },
      "source": [
        "# Gabungkan data rating dan cluster\n",
        "rating_popular_book = rating_popular_book.merge(user_cluster, on='User_ID', how='inner')"
      ],
      "execution_count": null,
      "outputs": []
    },
    {
      "cell_type": "code",
      "metadata": {
        "id": "ykdc_9cXHI0F",
        "colab_type": "code",
        "colab": {
          "base_uri": "https://localhost:8080/",
          "height": 204
        },
        "outputId": "8fb89087-fe49-47b9-c084-a49b05da9d2b"
      },
      "source": [
        "rating_popular_book.head()"
      ],
      "execution_count": null,
      "outputs": [
        {
          "output_type": "execute_result",
          "data": {
            "text/html": [
              "<div>\n",
              "<style scoped>\n",
              "    .dataframe tbody tr th:only-of-type {\n",
              "        vertical-align: middle;\n",
              "    }\n",
              "\n",
              "    .dataframe tbody tr th {\n",
              "        vertical-align: top;\n",
              "    }\n",
              "\n",
              "    .dataframe thead th {\n",
              "        text-align: right;\n",
              "    }\n",
              "</style>\n",
              "<table border=\"1\" class=\"dataframe\">\n",
              "  <thead>\n",
              "    <tr style=\"text-align: right;\">\n",
              "      <th></th>\n",
              "      <th>User_ID</th>\n",
              "      <th>ISBN</th>\n",
              "      <th>Book_Rating</th>\n",
              "      <th>Book_Title</th>\n",
              "      <th>total_rating_count</th>\n",
              "      <th>Cluster</th>\n",
              "    </tr>\n",
              "  </thead>\n",
              "  <tbody>\n",
              "    <tr>\n",
              "      <th>0</th>\n",
              "      <td>6543</td>\n",
              "      <td>034545104X</td>\n",
              "      <td>0.0</td>\n",
              "      <td>Flesh Tones: A Novel</td>\n",
              "      <td>425</td>\n",
              "      <td>1</td>\n",
              "    </tr>\n",
              "    <tr>\n",
              "      <th>1</th>\n",
              "      <td>6543</td>\n",
              "      <td>316666343</td>\n",
              "      <td>0.0</td>\n",
              "      <td>The Lovely Bones: A Novel</td>\n",
              "      <td>425</td>\n",
              "      <td>1</td>\n",
              "    </tr>\n",
              "    <tr>\n",
              "      <th>2</th>\n",
              "      <td>6543</td>\n",
              "      <td>385504209</td>\n",
              "      <td>0.0</td>\n",
              "      <td>The Da Vinci Code</td>\n",
              "      <td>425</td>\n",
              "      <td>1</td>\n",
              "    </tr>\n",
              "    <tr>\n",
              "      <th>3</th>\n",
              "      <td>6543</td>\n",
              "      <td>971880107</td>\n",
              "      <td>0.0</td>\n",
              "      <td>Wild Animus</td>\n",
              "      <td>425</td>\n",
              "      <td>1</td>\n",
              "    </tr>\n",
              "    <tr>\n",
              "      <th>4</th>\n",
              "      <td>6543</td>\n",
              "      <td>312966970</td>\n",
              "      <td>0.0</td>\n",
              "      <td>Four To Score (A Stephanie Plum Novel)</td>\n",
              "      <td>425</td>\n",
              "      <td>1</td>\n",
              "    </tr>\n",
              "  </tbody>\n",
              "</table>\n",
              "</div>"
            ],
            "text/plain": [
              "   User_ID        ISBN  ...  total_rating_count Cluster\n",
              "0     6543  034545104X  ...                 425       1\n",
              "1     6543   316666343  ...                 425       1\n",
              "2     6543   385504209  ...                 425       1\n",
              "3     6543   971880107  ...                 425       1\n",
              "4     6543   312966970  ...                 425       1\n",
              "\n",
              "[5 rows x 6 columns]"
            ]
          },
          "metadata": {
            "tags": []
          },
          "execution_count": 31
        }
      ]
    },
    {
      "cell_type": "code",
      "metadata": {
        "id": "k--Eu9Z7HYwH",
        "colab_type": "code",
        "colab": {}
      },
      "source": [
        "# Membuat user based rating matrix\n",
        "\n",
        "book_features_df= rating_popular_book.pivot_table(index='User_ID',columns='ISBN',values='Book_Rating').fillna(0)"
      ],
      "execution_count": null,
      "outputs": []
    },
    {
      "cell_type": "code",
      "metadata": {
        "id": "aCvyMNu2HgTs",
        "colab_type": "code",
        "colab": {
          "base_uri": "https://localhost:8080/",
          "height": 284
        },
        "outputId": "2253f48c-6da0-4955-ce67-647a1dc8dd78"
      },
      "source": [
        "book_features_df.head()"
      ],
      "execution_count": null,
      "outputs": [
        {
          "output_type": "execute_result",
          "data": {
            "text/html": [
              "<div>\n",
              "<style scoped>\n",
              "    .dataframe tbody tr th:only-of-type {\n",
              "        vertical-align: middle;\n",
              "    }\n",
              "\n",
              "    .dataframe tbody tr th {\n",
              "        vertical-align: top;\n",
              "    }\n",
              "\n",
              "    .dataframe thead th {\n",
              "        text-align: right;\n",
              "    }\n",
              "</style>\n",
              "<table border=\"1\" class=\"dataframe\">\n",
              "  <thead>\n",
              "    <tr style=\"text-align: right;\">\n",
              "      <th>ISBN</th>\n",
              "      <th>000104687X</th>\n",
              "      <th>000104799X</th>\n",
              "      <th>000223257X</th>\n",
              "      <th>000224554X</th>\n",
              "      <th>000225056X</th>\n",
              "      <th>000225414X</th>\n",
              "      <th>000225851X</th>\n",
              "      <th>000225929X</th>\n",
              "      <th>000225946X</th>\n",
              "      <th>000255433X</th>\n",
              "      <th>000274094X</th>\n",
              "      <th>000458824X</th>\n",
              "      <th>000470973X</th>\n",
              "      <th>000611962X</th>\n",
              "      <th>000614330X</th>\n",
              "      <th>000616899X</th>\n",
              "      <th>000617616X</th>\n",
              "      <th>000617843X</th>\n",
              "      <th>000617891X</th>\n",
              "      <th>000648025X</th>\n",
              "      <th>000648302X</th>\n",
              "      <th>000648302x</th>\n",
              "      <th>000648381X</th>\n",
              "      <th>000649319X</th>\n",
              "      <th>000649840X</th>\n",
              "      <th>000651202X</th>\n",
              "      <th>000651202x</th>\n",
              "      <th>000654861X</th>\n",
              "      <th>000671675X</th>\n",
              "      <th>000673765X</th>\n",
              "      <th>000675239X</th>\n",
              "      <th>000710331X</th>\n",
              "      <th>000710698X</th>\n",
              "      <th>000711737X</th>\n",
              "      <th>000712032X</th>\n",
              "      <th>000712855X</th>\n",
              "      <th>000716131X</th>\n",
              "      <th>000716226X</th>\n",
              "      <th>002008823X</th>\n",
              "      <th>002011690X</th>\n",
              "      <th>...</th>\n",
              "      <th>B000078UH8</th>\n",
              "      <th>B00007CWQC</th>\n",
              "      <th>B00007FYKO</th>\n",
              "      <th>B00007FYKW</th>\n",
              "      <th>B00007MAM9</th>\n",
              "      <th>B00008JYQC</th>\n",
              "      <th>B00008NRHQ</th>\n",
              "      <th>B00008RWPV</th>\n",
              "      <th>B00009ANY9</th>\n",
              "      <th>B00009APKU</th>\n",
              "      <th>B00009EF82</th>\n",
              "      <th>B00009NDAN</th>\n",
              "      <th>B0000A2U93</th>\n",
              "      <th>B0000C2W5U</th>\n",
              "      <th>B0000C2W66</th>\n",
              "      <th>B0000C37EK</th>\n",
              "      <th>B0000C7BNG</th>\n",
              "      <th>B0000C7GF8</th>\n",
              "      <th>B0000DAPP1</th>\n",
              "      <th>B0000DYXID</th>\n",
              "      <th>B0000T6KHI</th>\n",
              "      <th>B0000VZEFK</th>\n",
              "      <th>B0000VZEH8</th>\n",
              "      <th>B0000VZEJQ</th>\n",
              "      <th>B0000X8HIE</th>\n",
              "      <th>B00011SOXI</th>\n",
              "      <th>B00013AFZQ</th>\n",
              "      <th>B00013AWVI</th>\n",
              "      <th>B00013AWZY</th>\n",
              "      <th>B00013AX6W</th>\n",
              "      <th>B00016560C</th>\n",
              "      <th>B00016560M</th>\n",
              "      <th>B00017IWGQ</th>\n",
              "      <th>B0001GDNCK</th>\n",
              "      <th>B0001GMSV2</th>\n",
              "      <th>B0001I1JII</th>\n",
              "      <th>B0001PBXMS</th>\n",
              "      <th>B000234N3A</th>\n",
              "      <th>B000234NC6</th>\n",
              "      <th>B00029DGGO</th>\n",
              "    </tr>\n",
              "    <tr>\n",
              "      <th>User_ID</th>\n",
              "      <th></th>\n",
              "      <th></th>\n",
              "      <th></th>\n",
              "      <th></th>\n",
              "      <th></th>\n",
              "      <th></th>\n",
              "      <th></th>\n",
              "      <th></th>\n",
              "      <th></th>\n",
              "      <th></th>\n",
              "      <th></th>\n",
              "      <th></th>\n",
              "      <th></th>\n",
              "      <th></th>\n",
              "      <th></th>\n",
              "      <th></th>\n",
              "      <th></th>\n",
              "      <th></th>\n",
              "      <th></th>\n",
              "      <th></th>\n",
              "      <th></th>\n",
              "      <th></th>\n",
              "      <th></th>\n",
              "      <th></th>\n",
              "      <th></th>\n",
              "      <th></th>\n",
              "      <th></th>\n",
              "      <th></th>\n",
              "      <th></th>\n",
              "      <th></th>\n",
              "      <th></th>\n",
              "      <th></th>\n",
              "      <th></th>\n",
              "      <th></th>\n",
              "      <th></th>\n",
              "      <th></th>\n",
              "      <th></th>\n",
              "      <th></th>\n",
              "      <th></th>\n",
              "      <th></th>\n",
              "      <th></th>\n",
              "      <th></th>\n",
              "      <th></th>\n",
              "      <th></th>\n",
              "      <th></th>\n",
              "      <th></th>\n",
              "      <th></th>\n",
              "      <th></th>\n",
              "      <th></th>\n",
              "      <th></th>\n",
              "      <th></th>\n",
              "      <th></th>\n",
              "      <th></th>\n",
              "      <th></th>\n",
              "      <th></th>\n",
              "      <th></th>\n",
              "      <th></th>\n",
              "      <th></th>\n",
              "      <th></th>\n",
              "      <th></th>\n",
              "      <th></th>\n",
              "      <th></th>\n",
              "      <th></th>\n",
              "      <th></th>\n",
              "      <th></th>\n",
              "      <th></th>\n",
              "      <th></th>\n",
              "      <th></th>\n",
              "      <th></th>\n",
              "      <th></th>\n",
              "      <th></th>\n",
              "      <th></th>\n",
              "      <th></th>\n",
              "      <th></th>\n",
              "      <th></th>\n",
              "      <th></th>\n",
              "      <th></th>\n",
              "      <th></th>\n",
              "      <th></th>\n",
              "      <th></th>\n",
              "      <th></th>\n",
              "    </tr>\n",
              "  </thead>\n",
              "  <tbody>\n",
              "    <tr>\n",
              "      <th>254</th>\n",
              "      <td>0.0</td>\n",
              "      <td>0.0</td>\n",
              "      <td>0.0</td>\n",
              "      <td>0.0</td>\n",
              "      <td>0.0</td>\n",
              "      <td>0.0</td>\n",
              "      <td>0.0</td>\n",
              "      <td>0.0</td>\n",
              "      <td>0.0</td>\n",
              "      <td>0.0</td>\n",
              "      <td>0.0</td>\n",
              "      <td>0.0</td>\n",
              "      <td>0.0</td>\n",
              "      <td>0.0</td>\n",
              "      <td>0.0</td>\n",
              "      <td>0.0</td>\n",
              "      <td>0.0</td>\n",
              "      <td>0.0</td>\n",
              "      <td>0.0</td>\n",
              "      <td>0.0</td>\n",
              "      <td>0.0</td>\n",
              "      <td>0.0</td>\n",
              "      <td>0.0</td>\n",
              "      <td>0.0</td>\n",
              "      <td>0.0</td>\n",
              "      <td>0.0</td>\n",
              "      <td>0.0</td>\n",
              "      <td>0.0</td>\n",
              "      <td>0.0</td>\n",
              "      <td>0.0</td>\n",
              "      <td>0.0</td>\n",
              "      <td>0.0</td>\n",
              "      <td>0.0</td>\n",
              "      <td>0.0</td>\n",
              "      <td>0.0</td>\n",
              "      <td>0.0</td>\n",
              "      <td>0.0</td>\n",
              "      <td>0.0</td>\n",
              "      <td>0.0</td>\n",
              "      <td>0.0</td>\n",
              "      <td>...</td>\n",
              "      <td>0.0</td>\n",
              "      <td>0.0</td>\n",
              "      <td>0.0</td>\n",
              "      <td>0.0</td>\n",
              "      <td>0.0</td>\n",
              "      <td>0.0</td>\n",
              "      <td>0.0</td>\n",
              "      <td>0.0</td>\n",
              "      <td>0.0</td>\n",
              "      <td>0.0</td>\n",
              "      <td>0.0</td>\n",
              "      <td>0.0</td>\n",
              "      <td>0.0</td>\n",
              "      <td>0.0</td>\n",
              "      <td>0.0</td>\n",
              "      <td>0.0</td>\n",
              "      <td>0.0</td>\n",
              "      <td>0.0</td>\n",
              "      <td>0.0</td>\n",
              "      <td>0.0</td>\n",
              "      <td>0.0</td>\n",
              "      <td>0.0</td>\n",
              "      <td>0.0</td>\n",
              "      <td>0.0</td>\n",
              "      <td>0.0</td>\n",
              "      <td>0.0</td>\n",
              "      <td>0.0</td>\n",
              "      <td>0.0</td>\n",
              "      <td>0.0</td>\n",
              "      <td>0.0</td>\n",
              "      <td>0.0</td>\n",
              "      <td>0.0</td>\n",
              "      <td>0.0</td>\n",
              "      <td>0.0</td>\n",
              "      <td>0.0</td>\n",
              "      <td>0.0</td>\n",
              "      <td>0.0</td>\n",
              "      <td>0.0</td>\n",
              "      <td>0.0</td>\n",
              "      <td>0.0</td>\n",
              "    </tr>\n",
              "    <tr>\n",
              "      <th>507</th>\n",
              "      <td>0.0</td>\n",
              "      <td>0.0</td>\n",
              "      <td>0.0</td>\n",
              "      <td>0.0</td>\n",
              "      <td>0.0</td>\n",
              "      <td>0.0</td>\n",
              "      <td>0.0</td>\n",
              "      <td>0.0</td>\n",
              "      <td>0.0</td>\n",
              "      <td>0.0</td>\n",
              "      <td>0.0</td>\n",
              "      <td>0.0</td>\n",
              "      <td>0.0</td>\n",
              "      <td>0.0</td>\n",
              "      <td>0.0</td>\n",
              "      <td>0.0</td>\n",
              "      <td>0.0</td>\n",
              "      <td>0.0</td>\n",
              "      <td>0.0</td>\n",
              "      <td>0.0</td>\n",
              "      <td>0.0</td>\n",
              "      <td>0.0</td>\n",
              "      <td>0.0</td>\n",
              "      <td>0.0</td>\n",
              "      <td>0.0</td>\n",
              "      <td>0.0</td>\n",
              "      <td>0.0</td>\n",
              "      <td>0.0</td>\n",
              "      <td>0.0</td>\n",
              "      <td>0.0</td>\n",
              "      <td>0.0</td>\n",
              "      <td>0.0</td>\n",
              "      <td>0.0</td>\n",
              "      <td>0.0</td>\n",
              "      <td>0.0</td>\n",
              "      <td>0.0</td>\n",
              "      <td>0.0</td>\n",
              "      <td>0.0</td>\n",
              "      <td>0.0</td>\n",
              "      <td>0.0</td>\n",
              "      <td>...</td>\n",
              "      <td>0.0</td>\n",
              "      <td>0.0</td>\n",
              "      <td>0.0</td>\n",
              "      <td>0.0</td>\n",
              "      <td>0.0</td>\n",
              "      <td>0.0</td>\n",
              "      <td>0.0</td>\n",
              "      <td>0.0</td>\n",
              "      <td>0.0</td>\n",
              "      <td>0.0</td>\n",
              "      <td>0.0</td>\n",
              "      <td>0.0</td>\n",
              "      <td>0.0</td>\n",
              "      <td>0.0</td>\n",
              "      <td>0.0</td>\n",
              "      <td>0.0</td>\n",
              "      <td>0.0</td>\n",
              "      <td>0.0</td>\n",
              "      <td>0.0</td>\n",
              "      <td>0.0</td>\n",
              "      <td>0.0</td>\n",
              "      <td>0.0</td>\n",
              "      <td>0.0</td>\n",
              "      <td>0.0</td>\n",
              "      <td>0.0</td>\n",
              "      <td>0.0</td>\n",
              "      <td>0.0</td>\n",
              "      <td>0.0</td>\n",
              "      <td>0.0</td>\n",
              "      <td>0.0</td>\n",
              "      <td>0.0</td>\n",
              "      <td>0.0</td>\n",
              "      <td>0.0</td>\n",
              "      <td>0.0</td>\n",
              "      <td>0.0</td>\n",
              "      <td>0.0</td>\n",
              "      <td>0.0</td>\n",
              "      <td>0.0</td>\n",
              "      <td>0.0</td>\n",
              "      <td>0.0</td>\n",
              "    </tr>\n",
              "    <tr>\n",
              "      <th>882</th>\n",
              "      <td>0.0</td>\n",
              "      <td>0.0</td>\n",
              "      <td>0.0</td>\n",
              "      <td>0.0</td>\n",
              "      <td>0.0</td>\n",
              "      <td>0.0</td>\n",
              "      <td>0.0</td>\n",
              "      <td>0.0</td>\n",
              "      <td>0.0</td>\n",
              "      <td>0.0</td>\n",
              "      <td>0.0</td>\n",
              "      <td>0.0</td>\n",
              "      <td>0.0</td>\n",
              "      <td>0.0</td>\n",
              "      <td>0.0</td>\n",
              "      <td>0.0</td>\n",
              "      <td>0.0</td>\n",
              "      <td>0.0</td>\n",
              "      <td>0.0</td>\n",
              "      <td>0.0</td>\n",
              "      <td>0.0</td>\n",
              "      <td>0.0</td>\n",
              "      <td>0.0</td>\n",
              "      <td>0.0</td>\n",
              "      <td>0.0</td>\n",
              "      <td>0.0</td>\n",
              "      <td>0.0</td>\n",
              "      <td>0.0</td>\n",
              "      <td>0.0</td>\n",
              "      <td>0.0</td>\n",
              "      <td>0.0</td>\n",
              "      <td>0.0</td>\n",
              "      <td>0.0</td>\n",
              "      <td>0.0</td>\n",
              "      <td>0.0</td>\n",
              "      <td>0.0</td>\n",
              "      <td>0.0</td>\n",
              "      <td>0.0</td>\n",
              "      <td>0.0</td>\n",
              "      <td>0.0</td>\n",
              "      <td>...</td>\n",
              "      <td>0.0</td>\n",
              "      <td>0.0</td>\n",
              "      <td>0.0</td>\n",
              "      <td>0.0</td>\n",
              "      <td>0.0</td>\n",
              "      <td>0.0</td>\n",
              "      <td>0.0</td>\n",
              "      <td>0.0</td>\n",
              "      <td>0.0</td>\n",
              "      <td>0.0</td>\n",
              "      <td>0.0</td>\n",
              "      <td>0.0</td>\n",
              "      <td>0.0</td>\n",
              "      <td>0.0</td>\n",
              "      <td>0.0</td>\n",
              "      <td>0.0</td>\n",
              "      <td>0.0</td>\n",
              "      <td>0.0</td>\n",
              "      <td>0.0</td>\n",
              "      <td>0.0</td>\n",
              "      <td>0.0</td>\n",
              "      <td>0.0</td>\n",
              "      <td>0.0</td>\n",
              "      <td>0.0</td>\n",
              "      <td>0.0</td>\n",
              "      <td>0.0</td>\n",
              "      <td>0.0</td>\n",
              "      <td>0.0</td>\n",
              "      <td>0.0</td>\n",
              "      <td>0.0</td>\n",
              "      <td>0.0</td>\n",
              "      <td>0.0</td>\n",
              "      <td>0.0</td>\n",
              "      <td>0.0</td>\n",
              "      <td>0.0</td>\n",
              "      <td>0.0</td>\n",
              "      <td>0.0</td>\n",
              "      <td>0.0</td>\n",
              "      <td>0.0</td>\n",
              "      <td>0.0</td>\n",
              "    </tr>\n",
              "    <tr>\n",
              "      <th>1424</th>\n",
              "      <td>0.0</td>\n",
              "      <td>0.0</td>\n",
              "      <td>0.0</td>\n",
              "      <td>0.0</td>\n",
              "      <td>0.0</td>\n",
              "      <td>0.0</td>\n",
              "      <td>0.0</td>\n",
              "      <td>0.0</td>\n",
              "      <td>0.0</td>\n",
              "      <td>0.0</td>\n",
              "      <td>0.0</td>\n",
              "      <td>0.0</td>\n",
              "      <td>0.0</td>\n",
              "      <td>0.0</td>\n",
              "      <td>0.0</td>\n",
              "      <td>0.0</td>\n",
              "      <td>0.0</td>\n",
              "      <td>0.0</td>\n",
              "      <td>0.0</td>\n",
              "      <td>0.0</td>\n",
              "      <td>0.0</td>\n",
              "      <td>0.0</td>\n",
              "      <td>0.0</td>\n",
              "      <td>0.0</td>\n",
              "      <td>0.0</td>\n",
              "      <td>0.0</td>\n",
              "      <td>0.0</td>\n",
              "      <td>0.0</td>\n",
              "      <td>0.0</td>\n",
              "      <td>0.0</td>\n",
              "      <td>0.0</td>\n",
              "      <td>0.0</td>\n",
              "      <td>0.0</td>\n",
              "      <td>0.0</td>\n",
              "      <td>0.0</td>\n",
              "      <td>0.0</td>\n",
              "      <td>0.0</td>\n",
              "      <td>0.0</td>\n",
              "      <td>0.0</td>\n",
              "      <td>0.0</td>\n",
              "      <td>...</td>\n",
              "      <td>0.0</td>\n",
              "      <td>0.0</td>\n",
              "      <td>0.0</td>\n",
              "      <td>0.0</td>\n",
              "      <td>0.0</td>\n",
              "      <td>0.0</td>\n",
              "      <td>0.0</td>\n",
              "      <td>0.0</td>\n",
              "      <td>0.0</td>\n",
              "      <td>0.0</td>\n",
              "      <td>0.0</td>\n",
              "      <td>0.0</td>\n",
              "      <td>0.0</td>\n",
              "      <td>0.0</td>\n",
              "      <td>0.0</td>\n",
              "      <td>0.0</td>\n",
              "      <td>0.0</td>\n",
              "      <td>0.0</td>\n",
              "      <td>0.0</td>\n",
              "      <td>0.0</td>\n",
              "      <td>0.0</td>\n",
              "      <td>0.0</td>\n",
              "      <td>0.0</td>\n",
              "      <td>0.0</td>\n",
              "      <td>0.0</td>\n",
              "      <td>0.0</td>\n",
              "      <td>0.0</td>\n",
              "      <td>0.0</td>\n",
              "      <td>0.0</td>\n",
              "      <td>0.0</td>\n",
              "      <td>0.0</td>\n",
              "      <td>0.0</td>\n",
              "      <td>0.0</td>\n",
              "      <td>0.0</td>\n",
              "      <td>0.0</td>\n",
              "      <td>0.0</td>\n",
              "      <td>0.0</td>\n",
              "      <td>0.0</td>\n",
              "      <td>0.0</td>\n",
              "      <td>0.0</td>\n",
              "    </tr>\n",
              "    <tr>\n",
              "      <th>1435</th>\n",
              "      <td>0.0</td>\n",
              "      <td>0.0</td>\n",
              "      <td>0.0</td>\n",
              "      <td>0.0</td>\n",
              "      <td>0.0</td>\n",
              "      <td>0.0</td>\n",
              "      <td>0.0</td>\n",
              "      <td>0.0</td>\n",
              "      <td>0.0</td>\n",
              "      <td>0.0</td>\n",
              "      <td>0.0</td>\n",
              "      <td>0.0</td>\n",
              "      <td>0.0</td>\n",
              "      <td>0.0</td>\n",
              "      <td>0.0</td>\n",
              "      <td>0.0</td>\n",
              "      <td>0.0</td>\n",
              "      <td>0.0</td>\n",
              "      <td>0.0</td>\n",
              "      <td>0.0</td>\n",
              "      <td>0.0</td>\n",
              "      <td>0.0</td>\n",
              "      <td>0.0</td>\n",
              "      <td>0.0</td>\n",
              "      <td>0.0</td>\n",
              "      <td>0.0</td>\n",
              "      <td>0.0</td>\n",
              "      <td>0.0</td>\n",
              "      <td>0.0</td>\n",
              "      <td>0.0</td>\n",
              "      <td>0.0</td>\n",
              "      <td>0.0</td>\n",
              "      <td>0.0</td>\n",
              "      <td>0.0</td>\n",
              "      <td>0.0</td>\n",
              "      <td>0.0</td>\n",
              "      <td>0.0</td>\n",
              "      <td>0.0</td>\n",
              "      <td>0.0</td>\n",
              "      <td>0.0</td>\n",
              "      <td>...</td>\n",
              "      <td>0.0</td>\n",
              "      <td>0.0</td>\n",
              "      <td>0.0</td>\n",
              "      <td>0.0</td>\n",
              "      <td>0.0</td>\n",
              "      <td>0.0</td>\n",
              "      <td>0.0</td>\n",
              "      <td>0.0</td>\n",
              "      <td>0.0</td>\n",
              "      <td>0.0</td>\n",
              "      <td>0.0</td>\n",
              "      <td>0.0</td>\n",
              "      <td>0.0</td>\n",
              "      <td>0.0</td>\n",
              "      <td>0.0</td>\n",
              "      <td>0.0</td>\n",
              "      <td>0.0</td>\n",
              "      <td>0.0</td>\n",
              "      <td>0.0</td>\n",
              "      <td>0.0</td>\n",
              "      <td>0.0</td>\n",
              "      <td>0.0</td>\n",
              "      <td>0.0</td>\n",
              "      <td>0.0</td>\n",
              "      <td>0.0</td>\n",
              "      <td>0.0</td>\n",
              "      <td>0.0</td>\n",
              "      <td>0.0</td>\n",
              "      <td>0.0</td>\n",
              "      <td>0.0</td>\n",
              "      <td>0.0</td>\n",
              "      <td>0.0</td>\n",
              "      <td>0.0</td>\n",
              "      <td>0.0</td>\n",
              "      <td>0.0</td>\n",
              "      <td>0.0</td>\n",
              "      <td>0.0</td>\n",
              "      <td>0.0</td>\n",
              "      <td>0.0</td>\n",
              "      <td>0.0</td>\n",
              "    </tr>\n",
              "  </tbody>\n",
              "</table>\n",
              "<p>5 rows × 118348 columns</p>\n",
              "</div>"
            ],
            "text/plain": [
              "ISBN     000104687X  000104799X  000223257X  ...  B000234N3A  B000234NC6  B00029DGGO\n",
              "User_ID                                      ...                                    \n",
              "254             0.0         0.0         0.0  ...         0.0         0.0         0.0\n",
              "507             0.0         0.0         0.0  ...         0.0         0.0         0.0\n",
              "882             0.0         0.0         0.0  ...         0.0         0.0         0.0\n",
              "1424            0.0         0.0         0.0  ...         0.0         0.0         0.0\n",
              "1435            0.0         0.0         0.0  ...         0.0         0.0         0.0\n",
              "\n",
              "[5 rows x 118348 columns]"
            ]
          },
          "metadata": {
            "tags": []
          },
          "execution_count": 33
        }
      ]
    },
    {
      "cell_type": "code",
      "metadata": {
        "id": "nJsrP_QxfaDn",
        "colab_type": "code",
        "colab": {}
      },
      "source": [
        "from sklearn.model_selection import train_test_split"
      ],
      "execution_count": null,
      "outputs": []
    },
    {
      "cell_type": "code",
      "metadata": {
        "id": "inM7UvE_gokb",
        "colab_type": "code",
        "colab": {}
      },
      "source": [
        "X_train, X_test  = train_test_split (book_features_df, test_size=0.2)"
      ],
      "execution_count": null,
      "outputs": []
    },
    {
      "cell_type": "code",
      "metadata": {
        "id": "SS9gf0vIhuYm",
        "colab_type": "code",
        "colab": {
          "base_uri": "https://localhost:8080/",
          "height": 253
        },
        "outputId": "6b50101d-1060-4441-bc8a-26ca7afb98c4"
      },
      "source": [
        "X_test.head()"
      ],
      "execution_count": null,
      "outputs": [
        {
          "output_type": "execute_result",
          "data": {
            "text/html": [
              "<div>\n",
              "<style scoped>\n",
              "    .dataframe tbody tr th:only-of-type {\n",
              "        vertical-align: middle;\n",
              "    }\n",
              "\n",
              "    .dataframe tbody tr th {\n",
              "        vertical-align: top;\n",
              "    }\n",
              "\n",
              "    .dataframe thead th {\n",
              "        text-align: right;\n",
              "    }\n",
              "</style>\n",
              "<table border=\"1\" class=\"dataframe\">\n",
              "  <thead>\n",
              "    <tr style=\"text-align: right;\">\n",
              "      <th>ISBN</th>\n",
              "      <th>User_ID</th>\n",
              "      <th>000104687X</th>\n",
              "      <th>000104799X</th>\n",
              "      <th>000223257X</th>\n",
              "      <th>000224554X</th>\n",
              "      <th>000225056X</th>\n",
              "      <th>000225414X</th>\n",
              "      <th>000225851X</th>\n",
              "      <th>000225929X</th>\n",
              "      <th>000225946X</th>\n",
              "      <th>000255433X</th>\n",
              "      <th>000274094X</th>\n",
              "      <th>000458824X</th>\n",
              "      <th>000470973X</th>\n",
              "      <th>000611962X</th>\n",
              "      <th>000614330X</th>\n",
              "      <th>000616899X</th>\n",
              "      <th>000617616X</th>\n",
              "      <th>000617843X</th>\n",
              "      <th>000617891X</th>\n",
              "      <th>000648025X</th>\n",
              "      <th>000648302X</th>\n",
              "      <th>000648302x</th>\n",
              "      <th>000648381X</th>\n",
              "      <th>000649319X</th>\n",
              "      <th>000649840X</th>\n",
              "      <th>000651202X</th>\n",
              "      <th>000651202x</th>\n",
              "      <th>000654861X</th>\n",
              "      <th>000671675X</th>\n",
              "      <th>000673765X</th>\n",
              "      <th>000675239X</th>\n",
              "      <th>000710331X</th>\n",
              "      <th>000710698X</th>\n",
              "      <th>000711737X</th>\n",
              "      <th>000712032X</th>\n",
              "      <th>000712855X</th>\n",
              "      <th>000716131X</th>\n",
              "      <th>000716226X</th>\n",
              "      <th>002008823X</th>\n",
              "      <th>...</th>\n",
              "      <th>B000078UH8</th>\n",
              "      <th>B00007CWQC</th>\n",
              "      <th>B00007FYKO</th>\n",
              "      <th>B00007FYKW</th>\n",
              "      <th>B00007MAM9</th>\n",
              "      <th>B00008JYQC</th>\n",
              "      <th>B00008NRHQ</th>\n",
              "      <th>B00008RWPV</th>\n",
              "      <th>B00009ANY9</th>\n",
              "      <th>B00009APKU</th>\n",
              "      <th>B00009EF82</th>\n",
              "      <th>B00009NDAN</th>\n",
              "      <th>B0000A2U93</th>\n",
              "      <th>B0000C2W5U</th>\n",
              "      <th>B0000C2W66</th>\n",
              "      <th>B0000C37EK</th>\n",
              "      <th>B0000C7BNG</th>\n",
              "      <th>B0000C7GF8</th>\n",
              "      <th>B0000DAPP1</th>\n",
              "      <th>B0000DYXID</th>\n",
              "      <th>B0000T6KHI</th>\n",
              "      <th>B0000VZEFK</th>\n",
              "      <th>B0000VZEH8</th>\n",
              "      <th>B0000VZEJQ</th>\n",
              "      <th>B0000X8HIE</th>\n",
              "      <th>B00011SOXI</th>\n",
              "      <th>B00013AFZQ</th>\n",
              "      <th>B00013AWVI</th>\n",
              "      <th>B00013AWZY</th>\n",
              "      <th>B00013AX6W</th>\n",
              "      <th>B00016560C</th>\n",
              "      <th>B00016560M</th>\n",
              "      <th>B00017IWGQ</th>\n",
              "      <th>B0001GDNCK</th>\n",
              "      <th>B0001GMSV2</th>\n",
              "      <th>B0001I1JII</th>\n",
              "      <th>B0001PBXMS</th>\n",
              "      <th>B000234N3A</th>\n",
              "      <th>B000234NC6</th>\n",
              "      <th>B00029DGGO</th>\n",
              "    </tr>\n",
              "  </thead>\n",
              "  <tbody>\n",
              "    <tr>\n",
              "      <th>685</th>\n",
              "      <td>118533</td>\n",
              "      <td>0.0</td>\n",
              "      <td>0.0</td>\n",
              "      <td>0.0</td>\n",
              "      <td>0.0</td>\n",
              "      <td>0.0</td>\n",
              "      <td>0.0</td>\n",
              "      <td>0.0</td>\n",
              "      <td>0.0</td>\n",
              "      <td>0.0</td>\n",
              "      <td>0.0</td>\n",
              "      <td>0.0</td>\n",
              "      <td>0.0</td>\n",
              "      <td>0.0</td>\n",
              "      <td>0.0</td>\n",
              "      <td>0.0</td>\n",
              "      <td>0.0</td>\n",
              "      <td>0.0</td>\n",
              "      <td>0.0</td>\n",
              "      <td>0.0</td>\n",
              "      <td>0.0</td>\n",
              "      <td>0.0</td>\n",
              "      <td>0.0</td>\n",
              "      <td>0.0</td>\n",
              "      <td>0.0</td>\n",
              "      <td>0.0</td>\n",
              "      <td>0.0</td>\n",
              "      <td>0.0</td>\n",
              "      <td>0.0</td>\n",
              "      <td>0.0</td>\n",
              "      <td>0.0</td>\n",
              "      <td>0.0</td>\n",
              "      <td>0.0</td>\n",
              "      <td>0.0</td>\n",
              "      <td>0.0</td>\n",
              "      <td>0.0</td>\n",
              "      <td>0.0</td>\n",
              "      <td>0.0</td>\n",
              "      <td>0.0</td>\n",
              "      <td>0.0</td>\n",
              "      <td>...</td>\n",
              "      <td>0.0</td>\n",
              "      <td>0.0</td>\n",
              "      <td>0.0</td>\n",
              "      <td>0.0</td>\n",
              "      <td>0.0</td>\n",
              "      <td>0.0</td>\n",
              "      <td>0.0</td>\n",
              "      <td>0.0</td>\n",
              "      <td>0.0</td>\n",
              "      <td>0.0</td>\n",
              "      <td>0.0</td>\n",
              "      <td>0.0</td>\n",
              "      <td>0.0</td>\n",
              "      <td>0.0</td>\n",
              "      <td>0.0</td>\n",
              "      <td>0.0</td>\n",
              "      <td>0.0</td>\n",
              "      <td>0.0</td>\n",
              "      <td>0.0</td>\n",
              "      <td>0.0</td>\n",
              "      <td>0.0</td>\n",
              "      <td>0.0</td>\n",
              "      <td>0.0</td>\n",
              "      <td>0.0</td>\n",
              "      <td>0.0</td>\n",
              "      <td>0.0</td>\n",
              "      <td>0.0</td>\n",
              "      <td>0.0</td>\n",
              "      <td>0.0</td>\n",
              "      <td>0.0</td>\n",
              "      <td>0.0</td>\n",
              "      <td>0.0</td>\n",
              "      <td>0.0</td>\n",
              "      <td>0.0</td>\n",
              "      <td>0.0</td>\n",
              "      <td>0.0</td>\n",
              "      <td>0.0</td>\n",
              "      <td>0.0</td>\n",
              "      <td>0.0</td>\n",
              "      <td>0.0</td>\n",
              "    </tr>\n",
              "    <tr>\n",
              "      <th>307</th>\n",
              "      <td>53392</td>\n",
              "      <td>0.0</td>\n",
              "      <td>0.0</td>\n",
              "      <td>0.0</td>\n",
              "      <td>0.0</td>\n",
              "      <td>0.0</td>\n",
              "      <td>0.0</td>\n",
              "      <td>0.0</td>\n",
              "      <td>0.0</td>\n",
              "      <td>0.0</td>\n",
              "      <td>0.0</td>\n",
              "      <td>0.0</td>\n",
              "      <td>0.0</td>\n",
              "      <td>0.0</td>\n",
              "      <td>0.0</td>\n",
              "      <td>0.0</td>\n",
              "      <td>0.0</td>\n",
              "      <td>0.0</td>\n",
              "      <td>0.0</td>\n",
              "      <td>0.0</td>\n",
              "      <td>0.0</td>\n",
              "      <td>0.0</td>\n",
              "      <td>0.0</td>\n",
              "      <td>0.0</td>\n",
              "      <td>0.0</td>\n",
              "      <td>0.0</td>\n",
              "      <td>0.0</td>\n",
              "      <td>0.0</td>\n",
              "      <td>0.0</td>\n",
              "      <td>0.0</td>\n",
              "      <td>0.0</td>\n",
              "      <td>0.0</td>\n",
              "      <td>0.0</td>\n",
              "      <td>0.0</td>\n",
              "      <td>0.0</td>\n",
              "      <td>0.0</td>\n",
              "      <td>0.0</td>\n",
              "      <td>0.0</td>\n",
              "      <td>0.0</td>\n",
              "      <td>0.0</td>\n",
              "      <td>...</td>\n",
              "      <td>0.0</td>\n",
              "      <td>0.0</td>\n",
              "      <td>0.0</td>\n",
              "      <td>0.0</td>\n",
              "      <td>0.0</td>\n",
              "      <td>0.0</td>\n",
              "      <td>0.0</td>\n",
              "      <td>0.0</td>\n",
              "      <td>0.0</td>\n",
              "      <td>0.0</td>\n",
              "      <td>0.0</td>\n",
              "      <td>0.0</td>\n",
              "      <td>0.0</td>\n",
              "      <td>0.0</td>\n",
              "      <td>0.0</td>\n",
              "      <td>0.0</td>\n",
              "      <td>0.0</td>\n",
              "      <td>0.0</td>\n",
              "      <td>0.0</td>\n",
              "      <td>0.0</td>\n",
              "      <td>0.0</td>\n",
              "      <td>0.0</td>\n",
              "      <td>0.0</td>\n",
              "      <td>0.0</td>\n",
              "      <td>0.0</td>\n",
              "      <td>0.0</td>\n",
              "      <td>0.0</td>\n",
              "      <td>0.0</td>\n",
              "      <td>0.0</td>\n",
              "      <td>0.0</td>\n",
              "      <td>0.0</td>\n",
              "      <td>0.0</td>\n",
              "      <td>0.0</td>\n",
              "      <td>0.0</td>\n",
              "      <td>0.0</td>\n",
              "      <td>0.0</td>\n",
              "      <td>0.0</td>\n",
              "      <td>0.0</td>\n",
              "      <td>0.0</td>\n",
              "      <td>0.0</td>\n",
              "    </tr>\n",
              "    <tr>\n",
              "      <th>451</th>\n",
              "      <td>79441</td>\n",
              "      <td>0.0</td>\n",
              "      <td>0.0</td>\n",
              "      <td>0.0</td>\n",
              "      <td>0.0</td>\n",
              "      <td>0.0</td>\n",
              "      <td>0.0</td>\n",
              "      <td>0.0</td>\n",
              "      <td>0.0</td>\n",
              "      <td>0.0</td>\n",
              "      <td>0.0</td>\n",
              "      <td>0.0</td>\n",
              "      <td>0.0</td>\n",
              "      <td>0.0</td>\n",
              "      <td>0.0</td>\n",
              "      <td>0.0</td>\n",
              "      <td>0.0</td>\n",
              "      <td>0.0</td>\n",
              "      <td>0.0</td>\n",
              "      <td>0.0</td>\n",
              "      <td>0.0</td>\n",
              "      <td>0.0</td>\n",
              "      <td>0.0</td>\n",
              "      <td>0.0</td>\n",
              "      <td>0.0</td>\n",
              "      <td>0.0</td>\n",
              "      <td>0.0</td>\n",
              "      <td>0.0</td>\n",
              "      <td>0.0</td>\n",
              "      <td>0.0</td>\n",
              "      <td>0.0</td>\n",
              "      <td>0.0</td>\n",
              "      <td>0.0</td>\n",
              "      <td>0.0</td>\n",
              "      <td>0.0</td>\n",
              "      <td>0.0</td>\n",
              "      <td>0.0</td>\n",
              "      <td>0.0</td>\n",
              "      <td>0.0</td>\n",
              "      <td>0.0</td>\n",
              "      <td>...</td>\n",
              "      <td>0.0</td>\n",
              "      <td>0.0</td>\n",
              "      <td>0.0</td>\n",
              "      <td>0.0</td>\n",
              "      <td>0.0</td>\n",
              "      <td>0.0</td>\n",
              "      <td>0.0</td>\n",
              "      <td>0.0</td>\n",
              "      <td>0.0</td>\n",
              "      <td>0.0</td>\n",
              "      <td>0.0</td>\n",
              "      <td>0.0</td>\n",
              "      <td>0.0</td>\n",
              "      <td>0.0</td>\n",
              "      <td>0.0</td>\n",
              "      <td>0.0</td>\n",
              "      <td>0.0</td>\n",
              "      <td>0.0</td>\n",
              "      <td>0.0</td>\n",
              "      <td>0.0</td>\n",
              "      <td>0.0</td>\n",
              "      <td>0.0</td>\n",
              "      <td>0.0</td>\n",
              "      <td>0.0</td>\n",
              "      <td>0.0</td>\n",
              "      <td>0.0</td>\n",
              "      <td>0.0</td>\n",
              "      <td>0.0</td>\n",
              "      <td>0.0</td>\n",
              "      <td>0.0</td>\n",
              "      <td>0.0</td>\n",
              "      <td>0.0</td>\n",
              "      <td>0.0</td>\n",
              "      <td>0.0</td>\n",
              "      <td>0.0</td>\n",
              "      <td>0.0</td>\n",
              "      <td>0.0</td>\n",
              "      <td>0.0</td>\n",
              "      <td>0.0</td>\n",
              "      <td>0.0</td>\n",
              "    </tr>\n",
              "    <tr>\n",
              "      <th>53</th>\n",
              "      <td>10314</td>\n",
              "      <td>0.0</td>\n",
              "      <td>0.0</td>\n",
              "      <td>0.0</td>\n",
              "      <td>0.0</td>\n",
              "      <td>0.0</td>\n",
              "      <td>0.0</td>\n",
              "      <td>0.0</td>\n",
              "      <td>0.0</td>\n",
              "      <td>0.0</td>\n",
              "      <td>0.0</td>\n",
              "      <td>0.0</td>\n",
              "      <td>0.0</td>\n",
              "      <td>0.0</td>\n",
              "      <td>0.0</td>\n",
              "      <td>0.0</td>\n",
              "      <td>0.0</td>\n",
              "      <td>0.0</td>\n",
              "      <td>0.0</td>\n",
              "      <td>0.0</td>\n",
              "      <td>0.0</td>\n",
              "      <td>0.0</td>\n",
              "      <td>0.0</td>\n",
              "      <td>0.0</td>\n",
              "      <td>0.0</td>\n",
              "      <td>0.0</td>\n",
              "      <td>0.0</td>\n",
              "      <td>0.0</td>\n",
              "      <td>0.0</td>\n",
              "      <td>0.0</td>\n",
              "      <td>0.0</td>\n",
              "      <td>0.0</td>\n",
              "      <td>0.0</td>\n",
              "      <td>0.0</td>\n",
              "      <td>0.0</td>\n",
              "      <td>0.0</td>\n",
              "      <td>0.0</td>\n",
              "      <td>0.0</td>\n",
              "      <td>0.0</td>\n",
              "      <td>0.0</td>\n",
              "      <td>...</td>\n",
              "      <td>0.0</td>\n",
              "      <td>0.0</td>\n",
              "      <td>0.0</td>\n",
              "      <td>0.0</td>\n",
              "      <td>0.0</td>\n",
              "      <td>0.0</td>\n",
              "      <td>0.0</td>\n",
              "      <td>0.0</td>\n",
              "      <td>0.0</td>\n",
              "      <td>0.0</td>\n",
              "      <td>0.0</td>\n",
              "      <td>0.0</td>\n",
              "      <td>0.0</td>\n",
              "      <td>0.0</td>\n",
              "      <td>0.0</td>\n",
              "      <td>0.0</td>\n",
              "      <td>0.0</td>\n",
              "      <td>0.0</td>\n",
              "      <td>0.0</td>\n",
              "      <td>0.0</td>\n",
              "      <td>0.0</td>\n",
              "      <td>0.0</td>\n",
              "      <td>0.0</td>\n",
              "      <td>0.0</td>\n",
              "      <td>0.0</td>\n",
              "      <td>0.0</td>\n",
              "      <td>0.0</td>\n",
              "      <td>0.0</td>\n",
              "      <td>0.0</td>\n",
              "      <td>0.0</td>\n",
              "      <td>0.0</td>\n",
              "      <td>0.0</td>\n",
              "      <td>0.0</td>\n",
              "      <td>0.0</td>\n",
              "      <td>0.0</td>\n",
              "      <td>0.0</td>\n",
              "      <td>0.0</td>\n",
              "      <td>0.0</td>\n",
              "      <td>0.0</td>\n",
              "      <td>0.0</td>\n",
              "    </tr>\n",
              "    <tr>\n",
              "      <th>500</th>\n",
              "      <td>87746</td>\n",
              "      <td>0.0</td>\n",
              "      <td>0.0</td>\n",
              "      <td>0.0</td>\n",
              "      <td>0.0</td>\n",
              "      <td>0.0</td>\n",
              "      <td>0.0</td>\n",
              "      <td>0.0</td>\n",
              "      <td>0.0</td>\n",
              "      <td>0.0</td>\n",
              "      <td>0.0</td>\n",
              "      <td>0.0</td>\n",
              "      <td>0.0</td>\n",
              "      <td>0.0</td>\n",
              "      <td>0.0</td>\n",
              "      <td>0.0</td>\n",
              "      <td>0.0</td>\n",
              "      <td>0.0</td>\n",
              "      <td>0.0</td>\n",
              "      <td>0.0</td>\n",
              "      <td>0.0</td>\n",
              "      <td>0.0</td>\n",
              "      <td>0.0</td>\n",
              "      <td>0.0</td>\n",
              "      <td>0.0</td>\n",
              "      <td>0.0</td>\n",
              "      <td>0.0</td>\n",
              "      <td>0.0</td>\n",
              "      <td>0.0</td>\n",
              "      <td>0.0</td>\n",
              "      <td>0.0</td>\n",
              "      <td>0.0</td>\n",
              "      <td>0.0</td>\n",
              "      <td>0.0</td>\n",
              "      <td>0.0</td>\n",
              "      <td>0.0</td>\n",
              "      <td>0.0</td>\n",
              "      <td>0.0</td>\n",
              "      <td>0.0</td>\n",
              "      <td>0.0</td>\n",
              "      <td>...</td>\n",
              "      <td>0.0</td>\n",
              "      <td>0.0</td>\n",
              "      <td>0.0</td>\n",
              "      <td>0.0</td>\n",
              "      <td>0.0</td>\n",
              "      <td>0.0</td>\n",
              "      <td>0.0</td>\n",
              "      <td>0.0</td>\n",
              "      <td>0.0</td>\n",
              "      <td>0.0</td>\n",
              "      <td>0.0</td>\n",
              "      <td>0.0</td>\n",
              "      <td>0.0</td>\n",
              "      <td>0.0</td>\n",
              "      <td>0.0</td>\n",
              "      <td>0.0</td>\n",
              "      <td>0.0</td>\n",
              "      <td>0.0</td>\n",
              "      <td>0.0</td>\n",
              "      <td>0.0</td>\n",
              "      <td>0.0</td>\n",
              "      <td>0.0</td>\n",
              "      <td>0.0</td>\n",
              "      <td>0.0</td>\n",
              "      <td>0.0</td>\n",
              "      <td>0.0</td>\n",
              "      <td>0.0</td>\n",
              "      <td>0.0</td>\n",
              "      <td>0.0</td>\n",
              "      <td>0.0</td>\n",
              "      <td>0.0</td>\n",
              "      <td>0.0</td>\n",
              "      <td>0.0</td>\n",
              "      <td>0.0</td>\n",
              "      <td>0.0</td>\n",
              "      <td>0.0</td>\n",
              "      <td>0.0</td>\n",
              "      <td>0.0</td>\n",
              "      <td>0.0</td>\n",
              "      <td>0.0</td>\n",
              "    </tr>\n",
              "  </tbody>\n",
              "</table>\n",
              "<p>5 rows × 118349 columns</p>\n",
              "</div>"
            ],
            "text/plain": [
              "ISBN  User_ID  000104687X  000104799X  ...  B000234N3A  B000234NC6  B00029DGGO\n",
              "685    118533         0.0         0.0  ...         0.0         0.0         0.0\n",
              "307     53392         0.0         0.0  ...         0.0         0.0         0.0\n",
              "451     79441         0.0         0.0  ...         0.0         0.0         0.0\n",
              "53      10314         0.0         0.0  ...         0.0         0.0         0.0\n",
              "500     87746         0.0         0.0  ...         0.0         0.0         0.0\n",
              "\n",
              "[5 rows x 118349 columns]"
            ]
          },
          "metadata": {
            "tags": []
          },
          "execution_count": 69
        }
      ]
    },
    {
      "cell_type": "code",
      "metadata": {
        "id": "HzsYVmlxIeoJ",
        "colab_type": "code",
        "colab": {}
      },
      "source": [
        "book_features_df = book_features_df.reset_index()"
      ],
      "execution_count": null,
      "outputs": []
    },
    {
      "cell_type": "code",
      "metadata": {
        "id": "0vTmD858JkoI",
        "colab_type": "code",
        "colab": {
          "base_uri": "https://localhost:8080/",
          "height": 68
        },
        "outputId": "b217b98e-8c79-4766-df3d-195bb17f0cb3"
      },
      "source": [
        "# Train model with Knn and Jaccard sim\n",
        "\n",
        "from scipy.sparse import csr_matrix\n",
        "from sklearn.neighbors import NearestNeighbors\n",
        "\n",
        "model_knn = NearestNeighbors(metric = 'jaccard', algorithm= 'brute')\n",
        "model_knn.fit(X_train) "
      ],
      "execution_count": null,
      "outputs": [
        {
          "output_type": "execute_result",
          "data": {
            "text/plain": [
              "NearestNeighbors(algorithm='brute', leaf_size=30, metric='jaccard',\n",
              "                 metric_params=None, n_jobs=None, n_neighbors=5, p=2,\n",
              "                 radius=1.0)"
            ]
          },
          "metadata": {
            "tags": []
          },
          "execution_count": 71
        }
      ]
    },
    {
      "cell_type": "code",
      "metadata": {
        "id": "QaeveItDJyYS",
        "colab_type": "code",
        "colab": {
          "base_uri": "https://localhost:8080/",
          "height": 68
        },
        "outputId": "d4401938-7d10-4127-d8dc-62cfd8646163"
      },
      "source": [
        "# Generate Index yang akan direkomendasikan\n",
        "\n",
        "query_index = np.random.choice(X_train.shape[0])\n",
        "print(query_index)\n",
        "distances, indices = model_knn.kneighbors(X_train.iloc[query_index,:].values.reshape(1, -1), n_neighbors = 10)"
      ],
      "execution_count": null,
      "outputs": [
        {
          "output_type": "stream",
          "text": [
            "291\n"
          ],
          "name": "stdout"
        },
        {
          "output_type": "stream",
          "text": [
            "/usr/local/lib/python3.6/dist-packages/sklearn/metrics/pairwise.py:1738: DataConversionWarning: Data was converted to boolean for metric jaccard\n",
            "  warnings.warn(msg, DataConversionWarning)\n"
          ],
          "name": "stderr"
        }
      ]
    },
    {
      "cell_type": "code",
      "metadata": {
        "id": "8XFtndaAJ_CB",
        "colab_type": "code",
        "colab": {
          "base_uri": "https://localhost:8080/",
          "height": 204
        },
        "outputId": "dcac750c-a134-4571-c77b-5c503aad9630"
      },
      "source": [
        "#nearest = []\n",
        "for i in range(0, len(distances.flatten())):\n",
        "    if i == 0:\n",
        "        print('Recommendations for {0}:\\n'.format(X_train.iloc[query_index].User_ID))\n",
        "    else:\n",
        "        #nearest.append(X_test.iloc[indices.flatten()[i]].User_ID)\n",
        "        print('{0}: {1}, with distance of {2}:'.format(i, X_train.iloc[indices.flatten()[i]].User_ID, distances.flatten()[i]))"
      ],
      "execution_count": null,
      "outputs": [
        {
          "output_type": "stream",
          "text": [
            "Recommendations for 111578.0:\n",
            "\n",
            "1: 100644.0, with distance of 0.9722222222222222:\n",
            "2: 86202.0, with distance of 0.9727272727272728:\n",
            "3: 52002.0, with distance of 0.972972972972973:\n",
            "4: 95193.0, with distance of 0.9733333333333334:\n",
            "5: 19842.0, with distance of 0.975:\n",
            "6: 113817.0, with distance of 0.9759036144578314:\n",
            "7: 75819.0, with distance of 0.9766081871345029:\n",
            "8: 69042.0, with distance of 0.9775280898876404:\n",
            "9: 77181.0, with distance of 0.9775280898876404:\n"
          ],
          "name": "stdout"
        }
      ]
    },
    {
      "cell_type": "code",
      "metadata": {
        "id": "cVp0jJCDjBWX",
        "colab_type": "code",
        "colab": {
          "base_uri": "https://localhost:8080/",
          "height": 164
        },
        "outputId": "2660d99c-421f-4485-b5fb-985a6db84ee0"
      },
      "source": [
        "y_pred = model_knn.(X_test)"
      ],
      "execution_count": null,
      "outputs": [
        {
          "output_type": "error",
          "ename": "AttributeError",
          "evalue": "ignored",
          "traceback": [
            "\u001b[0;31m---------------------------------------------------------------------------\u001b[0m",
            "\u001b[0;31mAttributeError\u001b[0m                            Traceback (most recent call last)",
            "\u001b[0;32m<ipython-input-80-d650a18dcd4f>\u001b[0m in \u001b[0;36m<module>\u001b[0;34m()\u001b[0m\n\u001b[0;32m----> 1\u001b[0;31m \u001b[0my_pred\u001b[0m \u001b[0;34m=\u001b[0m \u001b[0mmodel_knn\u001b[0m\u001b[0;34m.\u001b[0m\u001b[0mpredict\u001b[0m\u001b[0;34m(\u001b[0m\u001b[0mX_test\u001b[0m\u001b[0;34m)\u001b[0m\u001b[0;34m\u001b[0m\u001b[0;34m\u001b[0m\u001b[0m\n\u001b[0m",
            "\u001b[0;31mAttributeError\u001b[0m: 'NearestNeighbors' object has no attribute 'predict'"
          ]
        }
      ]
    },
    {
      "cell_type": "markdown",
      "metadata": {
        "id": "AxOVRDVuKRx0",
        "colab_type": "text"
      },
      "source": [
        "Dapat dilihat bahwa untuk user_id 31040 terdapat 10 user yang memiliki jarak terdekat, kemudia akan diambil user terdekat yang memiliki cluster yang sama dengan user_id 37712"
      ]
    },
    {
      "cell_type": "code",
      "metadata": {
        "id": "q4T9hyUdKpJ3",
        "colab_type": "code",
        "colab": {
          "base_uri": "https://localhost:8080/",
          "height": 80
        },
        "outputId": "8230c9b0-0f4c-49ac-d0dd-24a54cf847da"
      },
      "source": [
        "rating_popular_book[(rating_popular_book['User_ID'] == 31040)].head(1)"
      ],
      "execution_count": null,
      "outputs": [
        {
          "output_type": "execute_result",
          "data": {
            "text/html": [
              "<div>\n",
              "<style scoped>\n",
              "    .dataframe tbody tr th:only-of-type {\n",
              "        vertical-align: middle;\n",
              "    }\n",
              "\n",
              "    .dataframe tbody tr th {\n",
              "        vertical-align: top;\n",
              "    }\n",
              "\n",
              "    .dataframe thead th {\n",
              "        text-align: right;\n",
              "    }\n",
              "</style>\n",
              "<table border=\"1\" class=\"dataframe\">\n",
              "  <thead>\n",
              "    <tr style=\"text-align: right;\">\n",
              "      <th></th>\n",
              "      <th>User_ID</th>\n",
              "      <th>ISBN</th>\n",
              "      <th>Book_Rating</th>\n",
              "      <th>Book_Title</th>\n",
              "      <th>total_rating_count</th>\n",
              "      <th>Cluster</th>\n",
              "    </tr>\n",
              "  </thead>\n",
              "  <tbody>\n",
              "    <tr>\n",
              "      <th>243383</th>\n",
              "      <td>31040</td>\n",
              "      <td>61097101</td>\n",
              "      <td>0.0</td>\n",
              "      <td>The Saving Graces: A Novel</td>\n",
              "      <td>121</td>\n",
              "      <td>1</td>\n",
              "    </tr>\n",
              "  </tbody>\n",
              "</table>\n",
              "</div>"
            ],
            "text/plain": [
              "        User_ID      ISBN  ...  total_rating_count Cluster\n",
              "243383    31040  61097101  ...                 121       1\n",
              "\n",
              "[1 rows x 6 columns]"
            ]
          },
          "metadata": {
            "tags": []
          },
          "execution_count": 50
        }
      ]
    },
    {
      "cell_type": "markdown",
      "metadata": {
        "id": "A5gUGuzlNlG_",
        "colab_type": "text"
      },
      "source": [
        "Data dengan user_id 37712 masuk kedalam cluster 2, maka dari itu untuk mendapatkan rekomendasinya diambil dari user terdekat yang memiliki cluster yang sama."
      ]
    },
    {
      "cell_type": "code",
      "metadata": {
        "id": "tAZvfmSXN2Tj",
        "colab_type": "code",
        "colab": {
          "base_uri": "https://localhost:8080/",
          "height": 80
        },
        "outputId": "88d4661c-ebb7-4d11-c4bb-182772ed122f"
      },
      "source": [
        "# User_ID 86189\n",
        "rating_popular_book[(rating_popular_book['User_ID'] == 32122)].head(1)"
      ],
      "execution_count": null,
      "outputs": [
        {
          "output_type": "execute_result",
          "data": {
            "text/html": [
              "<div>\n",
              "<style scoped>\n",
              "    .dataframe tbody tr th:only-of-type {\n",
              "        vertical-align: middle;\n",
              "    }\n",
              "\n",
              "    .dataframe tbody tr th {\n",
              "        vertical-align: top;\n",
              "    }\n",
              "\n",
              "    .dataframe thead th {\n",
              "        text-align: right;\n",
              "    }\n",
              "</style>\n",
              "<table border=\"1\" class=\"dataframe\">\n",
              "  <thead>\n",
              "    <tr style=\"text-align: right;\">\n",
              "      <th></th>\n",
              "      <th>User_ID</th>\n",
              "      <th>ISBN</th>\n",
              "      <th>Book_Rating</th>\n",
              "      <th>Book_Title</th>\n",
              "      <th>total_rating_count</th>\n",
              "      <th>Cluster</th>\n",
              "    </tr>\n",
              "  </thead>\n",
              "  <tbody>\n",
              "    <tr>\n",
              "      <th>152056</th>\n",
              "      <td>32122</td>\n",
              "      <td>043935806X</td>\n",
              "      <td>10.0</td>\n",
              "      <td>Harry Potter and the Order of the Phoenix (Boo...</td>\n",
              "      <td>159</td>\n",
              "      <td>1</td>\n",
              "    </tr>\n",
              "  </tbody>\n",
              "</table>\n",
              "</div>"
            ],
            "text/plain": [
              "        User_ID        ISBN  ...  total_rating_count Cluster\n",
              "152056    32122  043935806X  ...                 159       1\n",
              "\n",
              "[1 rows x 6 columns]"
            ]
          },
          "metadata": {
            "tags": []
          },
          "execution_count": 51
        }
      ]
    },
    {
      "cell_type": "code",
      "metadata": {
        "id": "LN52FvqJOH0U",
        "colab_type": "code",
        "colab": {
          "base_uri": "https://localhost:8080/",
          "height": 80
        },
        "outputId": "5dc93a48-ab09-4566-f505-6382811e7196"
      },
      "source": [
        "# User_ID 21014\n",
        "rating_popular_book[(rating_popular_book['User_ID'] == 21014)].head(1)"
      ],
      "execution_count": null,
      "outputs": [
        {
          "output_type": "execute_result",
          "data": {
            "text/html": [
              "<div>\n",
              "<style scoped>\n",
              "    .dataframe tbody tr th:only-of-type {\n",
              "        vertical-align: middle;\n",
              "    }\n",
              "\n",
              "    .dataframe tbody tr th {\n",
              "        vertical-align: top;\n",
              "    }\n",
              "\n",
              "    .dataframe thead th {\n",
              "        text-align: right;\n",
              "    }\n",
              "</style>\n",
              "<table border=\"1\" class=\"dataframe\">\n",
              "  <thead>\n",
              "    <tr style=\"text-align: right;\">\n",
              "      <th></th>\n",
              "      <th>User_ID</th>\n",
              "      <th>ISBN</th>\n",
              "      <th>Book_Rating</th>\n",
              "      <th>Book_Title</th>\n",
              "      <th>total_rating_count</th>\n",
              "      <th>Cluster</th>\n",
              "    </tr>\n",
              "  </thead>\n",
              "  <tbody>\n",
              "    <tr>\n",
              "      <th>35927</th>\n",
              "      <td>21014</td>\n",
              "      <td>038550120X</td>\n",
              "      <td>0.0</td>\n",
              "      <td>A Painted House</td>\n",
              "      <td>772</td>\n",
              "      <td>2</td>\n",
              "    </tr>\n",
              "  </tbody>\n",
              "</table>\n",
              "</div>"
            ],
            "text/plain": [
              "       User_ID        ISBN  ...  total_rating_count Cluster\n",
              "35927    21014  038550120X  ...                 772       2\n",
              "\n",
              "[1 rows x 6 columns]"
            ]
          },
          "metadata": {
            "tags": []
          },
          "execution_count": 40
        }
      ]
    },
    {
      "cell_type": "markdown",
      "metadata": {
        "id": "YsjRf_1pOeHf",
        "colab_type": "text"
      },
      "source": [
        "Dapat dilihat bahwa user pertama yang terdekat, memiliki cluster yang sama dengan user 31040, maka user kedua adalah user yang direkomendasikan."
      ]
    },
    {
      "cell_type": "markdown",
      "metadata": {
        "id": "H9Vtx86HO3fM",
        "colab_type": "text"
      },
      "source": [
        "## Melihat Buku yang direkoemdasikan kepada user 31040\n"
      ]
    },
    {
      "cell_type": "code",
      "metadata": {
        "id": "LdTePpaSO9gD",
        "colab_type": "code",
        "colab": {}
      },
      "source": [
        "# User yang akan dicari rekomenadsinya\n",
        "id_target = rating_popular_book.User_ID == 31040\n",
        "\n",
        "# User yang direkoemdasikan\n",
        "id_predict = rating_popular_book.User_ID == 32122\n",
        "\n",
        "# Mengeliminasi rating yang memiliki nilai 0\n",
        "zero_rating = rating_popular_book.Book_Rating != 0.0"
      ],
      "execution_count": null,
      "outputs": []
    },
    {
      "cell_type": "code",
      "metadata": {
        "id": "IHe0TO9tP4m7",
        "colab_type": "code",
        "colab": {
          "base_uri": "https://localhost:8080/",
          "height": 80
        },
        "outputId": "d431c7ba-3106-4185-af41-9f4b822fe2df"
      },
      "source": [
        "# Hitung masing-masing jumlah rating dari target dan predict\n",
        "rating_popular_book[(id_target)].head(1)"
      ],
      "execution_count": null,
      "outputs": [
        {
          "output_type": "execute_result",
          "data": {
            "text/html": [
              "<div>\n",
              "<style scoped>\n",
              "    .dataframe tbody tr th:only-of-type {\n",
              "        vertical-align: middle;\n",
              "    }\n",
              "\n",
              "    .dataframe tbody tr th {\n",
              "        vertical-align: top;\n",
              "    }\n",
              "\n",
              "    .dataframe thead th {\n",
              "        text-align: right;\n",
              "    }\n",
              "</style>\n",
              "<table border=\"1\" class=\"dataframe\">\n",
              "  <thead>\n",
              "    <tr style=\"text-align: right;\">\n",
              "      <th></th>\n",
              "      <th>User_ID</th>\n",
              "      <th>ISBN</th>\n",
              "      <th>Book_Rating</th>\n",
              "      <th>Book_Title</th>\n",
              "      <th>total_rating_count</th>\n",
              "      <th>Cluster</th>\n",
              "    </tr>\n",
              "  </thead>\n",
              "  <tbody>\n",
              "    <tr>\n",
              "      <th>243383</th>\n",
              "      <td>31040</td>\n",
              "      <td>61097101</td>\n",
              "      <td>0.0</td>\n",
              "      <td>The Saving Graces: A Novel</td>\n",
              "      <td>121</td>\n",
              "      <td>1</td>\n",
              "    </tr>\n",
              "  </tbody>\n",
              "</table>\n",
              "</div>"
            ],
            "text/plain": [
              "        User_ID      ISBN  ...  total_rating_count Cluster\n",
              "243383    31040  61097101  ...                 121       1\n",
              "\n",
              "[1 rows x 6 columns]"
            ]
          },
          "metadata": {
            "tags": []
          },
          "execution_count": 53
        }
      ]
    },
    {
      "cell_type": "code",
      "metadata": {
        "id": "hBBNUwNjQPPw",
        "colab_type": "code",
        "colab": {
          "base_uri": "https://localhost:8080/",
          "height": 80
        },
        "outputId": "9a2a8e3f-f91b-4e1d-b47d-c45ae33d5d2f"
      },
      "source": [
        "rating_popular_book[(id_predict) & zero_rating].head(1)"
      ],
      "execution_count": null,
      "outputs": [
        {
          "output_type": "execute_result",
          "data": {
            "text/html": [
              "<div>\n",
              "<style scoped>\n",
              "    .dataframe tbody tr th:only-of-type {\n",
              "        vertical-align: middle;\n",
              "    }\n",
              "\n",
              "    .dataframe tbody tr th {\n",
              "        vertical-align: top;\n",
              "    }\n",
              "\n",
              "    .dataframe thead th {\n",
              "        text-align: right;\n",
              "    }\n",
              "</style>\n",
              "<table border=\"1\" class=\"dataframe\">\n",
              "  <thead>\n",
              "    <tr style=\"text-align: right;\">\n",
              "      <th></th>\n",
              "      <th>User_ID</th>\n",
              "      <th>ISBN</th>\n",
              "      <th>Book_Rating</th>\n",
              "      <th>Book_Title</th>\n",
              "      <th>total_rating_count</th>\n",
              "      <th>Cluster</th>\n",
              "    </tr>\n",
              "  </thead>\n",
              "  <tbody>\n",
              "    <tr>\n",
              "      <th>152056</th>\n",
              "      <td>32122</td>\n",
              "      <td>043935806X</td>\n",
              "      <td>10.0</td>\n",
              "      <td>Harry Potter and the Order of the Phoenix (Boo...</td>\n",
              "      <td>159</td>\n",
              "      <td>1</td>\n",
              "    </tr>\n",
              "  </tbody>\n",
              "</table>\n",
              "</div>"
            ],
            "text/plain": [
              "        User_ID        ISBN  ...  total_rating_count Cluster\n",
              "152056    32122  043935806X  ...                 159       1\n",
              "\n",
              "[1 rows x 6 columns]"
            ]
          },
          "metadata": {
            "tags": []
          },
          "execution_count": 54
        }
      ]
    },
    {
      "cell_type": "code",
      "metadata": {
        "id": "5MNiI-ojRhVm",
        "colab_type": "code",
        "colab": {}
      },
      "source": [
        "target = rating_popular_book[(id_target)]\n",
        "predict = rating_popular_book[(id_predict) & zero_rating]"
      ],
      "execution_count": null,
      "outputs": []
    },
    {
      "cell_type": "markdown",
      "metadata": {
        "id": "sSyibmMLQZlS",
        "colab_type": "text"
      },
      "source": [
        "Dari hasil diatas, dapat ditunjukan bahwa total rating dari user yang direkomendasikan lebih banyak melakukan penilaian, maka ambil item yang tidak ber irisan dengan target"
      ]
    },
    {
      "cell_type": "code",
      "metadata": {
        "id": "VngVLXr8Q5cJ",
        "colab_type": "code",
        "colab": {
          "base_uri": "https://localhost:8080/",
          "height": 419
        },
        "outputId": "b9c7815b-3ceb-4731-a30a-eb66e6d3bd91"
      },
      "source": [
        "pd.merge(target, predict, how='left', on='ISBN')"
      ],
      "execution_count": null,
      "outputs": [
        {
          "output_type": "execute_result",
          "data": {
            "text/html": [
              "<div>\n",
              "<style scoped>\n",
              "    .dataframe tbody tr th:only-of-type {\n",
              "        vertical-align: middle;\n",
              "    }\n",
              "\n",
              "    .dataframe tbody tr th {\n",
              "        vertical-align: top;\n",
              "    }\n",
              "\n",
              "    .dataframe thead th {\n",
              "        text-align: right;\n",
              "    }\n",
              "</style>\n",
              "<table border=\"1\" class=\"dataframe\">\n",
              "  <thead>\n",
              "    <tr style=\"text-align: right;\">\n",
              "      <th></th>\n",
              "      <th>User_ID_x</th>\n",
              "      <th>ISBN</th>\n",
              "      <th>Book_Rating_x</th>\n",
              "      <th>Book_Title_x</th>\n",
              "      <th>total_rating_count_x</th>\n",
              "      <th>Cluster_x</th>\n",
              "      <th>User_ID_y</th>\n",
              "      <th>Book_Rating_y</th>\n",
              "      <th>Book_Title_y</th>\n",
              "      <th>total_rating_count_y</th>\n",
              "      <th>Cluster_y</th>\n",
              "    </tr>\n",
              "  </thead>\n",
              "  <tbody>\n",
              "    <tr>\n",
              "      <th>0</th>\n",
              "      <td>31040</td>\n",
              "      <td>61097101</td>\n",
              "      <td>0.0</td>\n",
              "      <td>The Saving Graces: A Novel</td>\n",
              "      <td>121</td>\n",
              "      <td>1</td>\n",
              "      <td>NaN</td>\n",
              "      <td>NaN</td>\n",
              "      <td>NaN</td>\n",
              "      <td>NaN</td>\n",
              "      <td>NaN</td>\n",
              "    </tr>\n",
              "    <tr>\n",
              "      <th>1</th>\n",
              "      <td>31040</td>\n",
              "      <td>671003755</td>\n",
              "      <td>0.0</td>\n",
              "      <td>She's Come Undone (Oprah's Book Club (Paperback))</td>\n",
              "      <td>121</td>\n",
              "      <td>1</td>\n",
              "      <td>NaN</td>\n",
              "      <td>NaN</td>\n",
              "      <td>NaN</td>\n",
              "      <td>NaN</td>\n",
              "      <td>NaN</td>\n",
              "    </tr>\n",
              "    <tr>\n",
              "      <th>2</th>\n",
              "      <td>31040</td>\n",
              "      <td>044023722X</td>\n",
              "      <td>0.0</td>\n",
              "      <td>A Painted House</td>\n",
              "      <td>121</td>\n",
              "      <td>1</td>\n",
              "      <td>NaN</td>\n",
              "      <td>NaN</td>\n",
              "      <td>NaN</td>\n",
              "      <td>NaN</td>\n",
              "      <td>NaN</td>\n",
              "    </tr>\n",
              "    <tr>\n",
              "      <th>3</th>\n",
              "      <td>31040</td>\n",
              "      <td>425154092</td>\n",
              "      <td>0.0</td>\n",
              "      <td>From Potter's Field</td>\n",
              "      <td>121</td>\n",
              "      <td>1</td>\n",
              "      <td>NaN</td>\n",
              "      <td>NaN</td>\n",
              "      <td>NaN</td>\n",
              "      <td>NaN</td>\n",
              "      <td>NaN</td>\n",
              "    </tr>\n",
              "    <tr>\n",
              "      <th>4</th>\n",
              "      <td>31040</td>\n",
              "      <td>345404769</td>\n",
              "      <td>8.0</td>\n",
              "      <td>Silent Witness</td>\n",
              "      <td>121</td>\n",
              "      <td>1</td>\n",
              "      <td>NaN</td>\n",
              "      <td>NaN</td>\n",
              "      <td>NaN</td>\n",
              "      <td>NaN</td>\n",
              "      <td>NaN</td>\n",
              "    </tr>\n",
              "    <tr>\n",
              "      <th>...</th>\n",
              "      <td>...</td>\n",
              "      <td>...</td>\n",
              "      <td>...</td>\n",
              "      <td>...</td>\n",
              "      <td>...</td>\n",
              "      <td>...</td>\n",
              "      <td>...</td>\n",
              "      <td>...</td>\n",
              "      <td>...</td>\n",
              "      <td>...</td>\n",
              "      <td>...</td>\n",
              "    </tr>\n",
              "    <tr>\n",
              "      <th>116</th>\n",
              "      <td>31040</td>\n",
              "      <td>899191401</td>\n",
              "      <td>6.0</td>\n",
              "      <td>Make noise, make merry: The story and meaning ...</td>\n",
              "      <td>121</td>\n",
              "      <td>1</td>\n",
              "      <td>NaN</td>\n",
              "      <td>NaN</td>\n",
              "      <td>NaN</td>\n",
              "      <td>NaN</td>\n",
              "      <td>NaN</td>\n",
              "    </tr>\n",
              "    <tr>\n",
              "      <th>117</th>\n",
              "      <td>31040</td>\n",
              "      <td>937539589</td>\n",
              "      <td>0.0</td>\n",
              "      <td>The Art of Dealing with People</td>\n",
              "      <td>121</td>\n",
              "      <td>1</td>\n",
              "      <td>NaN</td>\n",
              "      <td>NaN</td>\n",
              "      <td>NaN</td>\n",
              "      <td>NaN</td>\n",
              "      <td>NaN</td>\n",
              "    </tr>\n",
              "    <tr>\n",
              "      <th>118</th>\n",
              "      <td>31040</td>\n",
              "      <td>943173531</td>\n",
              "      <td>0.0</td>\n",
              "      <td>The Blind Palmist: Being an Often Humorous Acc...</td>\n",
              "      <td>121</td>\n",
              "      <td>1</td>\n",
              "      <td>NaN</td>\n",
              "      <td>NaN</td>\n",
              "      <td>NaN</td>\n",
              "      <td>NaN</td>\n",
              "      <td>NaN</td>\n",
              "    </tr>\n",
              "    <tr>\n",
              "      <th>119</th>\n",
              "      <td>31040</td>\n",
              "      <td>1572971940</td>\n",
              "      <td>0.0</td>\n",
              "      <td>Jessica Fletcher Presents...: Murder, They Wro...</td>\n",
              "      <td>121</td>\n",
              "      <td>1</td>\n",
              "      <td>NaN</td>\n",
              "      <td>NaN</td>\n",
              "      <td>NaN</td>\n",
              "      <td>NaN</td>\n",
              "      <td>NaN</td>\n",
              "    </tr>\n",
              "    <tr>\n",
              "      <th>120</th>\n",
              "      <td>31040</td>\n",
              "      <td>1879102056</td>\n",
              "      <td>5.0</td>\n",
              "      <td>Extending ArcView GIS: with Network Analyst, S...</td>\n",
              "      <td>121</td>\n",
              "      <td>1</td>\n",
              "      <td>NaN</td>\n",
              "      <td>NaN</td>\n",
              "      <td>NaN</td>\n",
              "      <td>NaN</td>\n",
              "      <td>NaN</td>\n",
              "    </tr>\n",
              "  </tbody>\n",
              "</table>\n",
              "<p>121 rows × 11 columns</p>\n",
              "</div>"
            ],
            "text/plain": [
              "     User_ID_x        ISBN  ...  total_rating_count_y Cluster_y\n",
              "0        31040    61097101  ...                   NaN       NaN\n",
              "1        31040   671003755  ...                   NaN       NaN\n",
              "2        31040  044023722X  ...                   NaN       NaN\n",
              "3        31040   425154092  ...                   NaN       NaN\n",
              "4        31040   345404769  ...                   NaN       NaN\n",
              "..         ...         ...  ...                   ...       ...\n",
              "116      31040   899191401  ...                   NaN       NaN\n",
              "117      31040   937539589  ...                   NaN       NaN\n",
              "118      31040   943173531  ...                   NaN       NaN\n",
              "119      31040  1572971940  ...                   NaN       NaN\n",
              "120      31040  1879102056  ...                   NaN       NaN\n",
              "\n",
              "[121 rows x 11 columns]"
            ]
          },
          "metadata": {
            "tags": []
          },
          "execution_count": 56
        }
      ]
    },
    {
      "cell_type": "code",
      "metadata": {
        "id": "rlTB-nZkaqtf",
        "colab_type": "code",
        "colab": {}
      },
      "source": [
        "from sklearn.metrics import mean_squared_error"
      ],
      "execution_count": null,
      "outputs": []
    },
    {
      "cell_type": "code",
      "metadata": {
        "id": "wXhOCpQIcm3p",
        "colab_type": "code",
        "colab": {}
      },
      "source": [
        "t_pred = book_features_df.User_ID == 31040"
      ],
      "execution_count": null,
      "outputs": []
    },
    {
      "cell_type": "code",
      "metadata": {
        "id": "fGTfoL1xc1S0",
        "colab_type": "code",
        "colab": {}
      },
      "source": [
        "y_true = book_features_df.User_ID == 32122"
      ],
      "execution_count": null,
      "outputs": []
    },
    {
      "cell_type": "code",
      "metadata": {
        "id": "uOAOmqboa3ig",
        "colab_type": "code",
        "colab": {
          "base_uri": "https://localhost:8080/",
          "height": 300
        },
        "outputId": "06233a33-2def-4354-f664-ddea16ac64b8"
      },
      "source": [
        "mse =  mean_squared_error(y_true, t_pred)\n",
        "mse"
      ],
      "execution_count": null,
      "outputs": [
        {
          "output_type": "error",
          "ename": "TypeError",
          "evalue": "ignored",
          "traceback": [
            "\u001b[0;31m---------------------------------------------------------------------------\u001b[0m",
            "\u001b[0;31mTypeError\u001b[0m                                 Traceback (most recent call last)",
            "\u001b[0;32m<ipython-input-66-02525dd12359>\u001b[0m in \u001b[0;36m<module>\u001b[0;34m()\u001b[0m\n\u001b[0;32m----> 1\u001b[0;31m \u001b[0mmse\u001b[0m \u001b[0;34m=\u001b[0m  \u001b[0mmean_squared_error\u001b[0m\u001b[0;34m(\u001b[0m\u001b[0my_true\u001b[0m\u001b[0;34m,\u001b[0m \u001b[0mt_pred\u001b[0m\u001b[0;34m)\u001b[0m\u001b[0;34m\u001b[0m\u001b[0;34m\u001b[0m\u001b[0m\n\u001b[0m\u001b[1;32m      2\u001b[0m \u001b[0mmse\u001b[0m\u001b[0;34m\u001b[0m\u001b[0;34m\u001b[0m\u001b[0m\n",
            "\u001b[0;32m/usr/local/lib/python3.6/dist-packages/sklearn/metrics/_regression.py\u001b[0m in \u001b[0;36mmean_squared_error\u001b[0;34m(y_true, y_pred, sample_weight, multioutput, squared)\u001b[0m\n\u001b[1;32m    252\u001b[0m         y_true, y_pred, multioutput)\n\u001b[1;32m    253\u001b[0m     \u001b[0mcheck_consistent_length\u001b[0m\u001b[0;34m(\u001b[0m\u001b[0my_true\u001b[0m\u001b[0;34m,\u001b[0m \u001b[0my_pred\u001b[0m\u001b[0;34m,\u001b[0m \u001b[0msample_weight\u001b[0m\u001b[0;34m)\u001b[0m\u001b[0;34m\u001b[0m\u001b[0;34m\u001b[0m\u001b[0m\n\u001b[0;32m--> 254\u001b[0;31m     output_errors = np.average((y_true - y_pred) ** 2, axis=0,\n\u001b[0m\u001b[1;32m    255\u001b[0m                                weights=sample_weight)\n\u001b[1;32m    256\u001b[0m     \u001b[0;32mif\u001b[0m \u001b[0misinstance\u001b[0m\u001b[0;34m(\u001b[0m\u001b[0mmultioutput\u001b[0m\u001b[0;34m,\u001b[0m \u001b[0mstr\u001b[0m\u001b[0;34m)\u001b[0m\u001b[0;34m:\u001b[0m\u001b[0;34m\u001b[0m\u001b[0;34m\u001b[0m\u001b[0m\n",
            "\u001b[0;31mTypeError\u001b[0m: numpy boolean subtract, the `-` operator, is not supported, use the bitwise_xor, the `^` operator, or the logical_xor function instead."
          ]
        }
      ]
    }
  ]
}